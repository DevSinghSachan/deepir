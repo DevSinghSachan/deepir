{
 "metadata": {
  "name": "",
  "signature": "sha256:cd9eb64b030894c2764e012de8a7b9a5d02ccf53c7e9398eaa6067f76d0845e1"
 },
 "nbformat": 3,
 "nbformat_minor": 0,
 "worksheets": [
  {
   "cells": [
    {
     "cell_type": "heading",
     "level": 1,
     "metadata": {},
     "source": [
      "Inversion of distributed word representations"
     ]
    },
    {
     "cell_type": "code",
     "collapsed": false,
     "input": [
      "import numpy as np\n",
      "from gensim.models import Word2Vec"
     ],
     "language": "python",
     "metadata": {},
     "outputs": [],
     "prompt_number": 6
    },
    {
     "cell_type": "markdown",
     "metadata": {},
     "source": [
      "The comparators could be, e.g., the doc2vec machinery that is also built into gensim."
     ]
    },
    {
     "cell_type": "code",
     "collapsed": false,
     "input": [
      "fin = open(\"data/yelp1star.txt\")"
     ],
     "language": "python",
     "metadata": {},
     "outputs": [],
     "prompt_number": 7
    },
    {
     "cell_type": "code",
     "collapsed": false,
     "input": [
      "fin.readline()"
     ],
     "language": "python",
     "metadata": {},
     "outputs": [
      {
       "metadata": {},
       "output_type": "pyout",
       "prompt_number": 8,
       "text": [
        "' u can go there n check car out . u wanna buy there ? thats wrong move ! u even want car service from there ? u made biggest mistake ur life !! i had time asked my girlfriend take my car there oil service guess what ? they ripped my girlfriend off by lying how bad my car now . without fixing problem . might bring some serious accident . then she did what they said . brand new tires timing belt new brake pads . u know whys worst ? all those above i had just changed months before !!! what trashy dealer that ? people better off go somewhere ! \\n'"
       ]
      }
     ],
     "prompt_number": 8
    },
    {
     "cell_type": "code",
     "collapsed": false,
     "input": [
      "def YelpReviews( stars = [1,2,3,4,5] ):\n",
      "    for nstar in stars:\n",
      "        for line in open(\"data/yelp%dstar.txt\"%nstar):\n",
      "            for clause in line.rstrip(\"( \\. )*\\n\").split(\" . \"): \n",
      "                yield clause.split()"
     ],
     "language": "python",
     "metadata": {},
     "outputs": [],
     "prompt_number": 9
    },
    {
     "cell_type": "code",
     "collapsed": false,
     "input": [
      "reviews = YelpReviews([1])"
     ],
     "language": "python",
     "metadata": {},
     "outputs": [],
     "prompt_number": 10
    },
    {
     "cell_type": "code",
     "collapsed": false,
     "input": [
      "next(reviews)"
     ],
     "language": "python",
     "metadata": {},
     "outputs": [
      {
       "metadata": {},
       "output_type": "pyout",
       "prompt_number": 11,
       "text": [
        "['u', 'can', 'go', 'there', 'n', 'check', 'car', 'out']"
       ]
      }
     ],
     "prompt_number": 11
    },
    {
     "cell_type": "code",
     "collapsed": false,
     "input": [
      "%time model1 = Word2Vec(YelpReviews([1]))"
     ],
     "language": "python",
     "metadata": {},
     "outputs": [
      {
       "output_type": "stream",
       "stream": "stdout",
       "text": [
        "CPU times: user 2.04 s, sys: 28.6 ms, total: 2.07 s\n",
        "Wall time: 2.07 s\n"
       ]
      }
     ],
     "prompt_number": 12
    },
    {
     "cell_type": "code",
     "collapsed": false,
     "input": [
      "len(model1.vocab)"
     ],
     "language": "python",
     "metadata": {},
     "outputs": [
      {
       "metadata": {},
       "output_type": "pyout",
       "prompt_number": 13,
       "text": [
        "13484"
       ]
      }
     ],
     "prompt_number": 13
    },
    {
     "cell_type": "code",
     "collapsed": false,
     "input": [
      "jointmodel = Word2Vec()\n",
      "jointmodel.build_vocab(YelpReviews())  "
     ],
     "language": "python",
     "metadata": {},
     "outputs": [],
     "prompt_number": 14
    },
    {
     "cell_type": "code",
     "collapsed": false,
     "input": [
      "import copy\n",
      "starmods = {}\n",
      "for s in range(1,6):\n",
      "    starmods[s] = copy.deepcopy(jointmodel)\n"
     ],
     "language": "python",
     "metadata": {},
     "outputs": [],
     "prompt_number": 23
    },
    {
     "cell_type": "code",
     "collapsed": false,
     "input": [
      "starmods.keys()"
     ],
     "language": "python",
     "metadata": {},
     "outputs": [
      {
       "metadata": {},
       "output_type": "pyout",
       "prompt_number": 24,
       "text": [
        "dict_keys([1, 2, 3, 4, 5])"
       ]
      }
     ],
     "prompt_number": 24
    },
    {
     "cell_type": "code",
     "collapsed": false,
     "input": [
      "for s in starmods:\n",
      "    print(s)\n",
      "    %time starmods[s].train(YelpReviews([s]))"
     ],
     "language": "python",
     "metadata": {},
     "outputs": [
      {
       "output_type": "stream",
       "stream": "stdout",
       "text": [
        "1\n",
        "CPU times: user 13 s, sys: 104 ms, total: 13.1 s"
       ]
      },
      {
       "output_type": "stream",
       "stream": "stdout",
       "text": [
        "\n",
        "Wall time: 13 s\n",
        "2\n",
        "CPU times: user 15.7 s, sys: 134 ms, total: 15.8 s"
       ]
      },
      {
       "output_type": "stream",
       "stream": "stdout",
       "text": [
        "\n",
        "Wall time: 15.6 s\n",
        "3\n",
        "CPU times: user 23.3 s, sys: 200 ms, total: 23.5 s"
       ]
      },
      {
       "output_type": "stream",
       "stream": "stdout",
       "text": [
        "\n",
        "Wall time: 23.3 s\n",
        "4\n",
        "CPU times: user 47.4 s, sys: 414 ms, total: 47.8 s"
       ]
      },
      {
       "output_type": "stream",
       "stream": "stdout",
       "text": [
        "\n",
        "Wall time: 47.2 s\n",
        "5\n",
        "CPU times: user 41.2 s, sys: 355 ms, total: 41.5 s"
       ]
      },
      {
       "output_type": "stream",
       "stream": "stdout",
       "text": [
        "\n",
        "Wall time: 41.1 s\n"
       ]
      }
     ],
     "prompt_number": 27
    }
   ],
   "metadata": {}
  }
 ]
}