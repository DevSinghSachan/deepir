{
 "metadata": {
  "name": "",
  "signature": "sha256:03f95d1123ee13196d52997a25ea5102b1ff4306895e9dbd07413aab242cfe56"
 },
 "nbformat": 3,
 "nbformat_minor": 0,
 "worksheets": [
  {
   "cells": [
    {
     "cell_type": "heading",
     "level": 1,
     "metadata": {},
     "source": [
      "Inversion of distributed word representations"
     ]
    },
    {
     "cell_type": "code",
     "collapsed": false,
     "input": [
      "import numpy as np\n",
      "import gensim"
     ],
     "language": "python",
     "metadata": {},
     "outputs": [],
     "prompt_number": 3
    },
    {
     "cell_type": "markdown",
     "metadata": {},
     "source": [
      "The comparators could be, e.g., the doc2vec machinery that is also built into gensim."
     ]
    }
   ],
   "metadata": {}
  }
 ]
}