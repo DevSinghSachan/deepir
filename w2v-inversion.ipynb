{
 "metadata": {
  "name": "",
  "signature": "sha256:b733f358a6580d6a4811e392e27857e24f4ce39d93d28cfb0aaf323399e8488d"
 },
 "nbformat": 3,
 "nbformat_minor": 0,
 "worksheets": [
  {
   "cells": [
    {
     "cell_type": "heading",
     "level": 1,
     "metadata": {},
     "source": [
      "Document classification by inversion of distributed language representations"
     ]
    },
    {
     "cell_type": "markdown",
     "metadata": {},
     "source": [
      "The skip-gram probabalistic language model is trained to, for window $b$, maximize for each word\n",
      "\n",
      "$$\n",
      "\\prod_{k\\neq t,~k=t-b}^{t+b} \\mathrm{p}(w_k\\mid w_t)\n",
      "$$\n",
      "\n",
      "This probability is calculated for all possible word pairs over a sentence (some defined short chunk of language).\n",
      "\n",
      "In the word2vec formulation, each probability is represented as\n",
      "\n",
      "$$\n",
      "\\mathrm{p}(w \\mid w_I) = \\prod_{j=1}^{L(w)-1} \\sigma\\left( \\mathrm{ch}\\left[\\eta(w,j+1)\\right] \\mathbf{u}_{\\eta(w,j)}^\\top \\mathbf{v}_{w_I} \\right)\n",
      "$$\n",
      "\n",
      "where \n",
      "* $\\eta(w,i)$ is the $i^{th}$ node in a binary huffman tree representation (path) for word $w$, \n",
      "* $\\sigma(x) = 1/(1 + \\exp[-x])$,\n",
      "* and $\\mathrm{ch}(\\eta) \\in \\{-1,+1\\}$ translates from left/right child to +/- one.\n",
      "\n",
      "The binary huffman tree represents each word as a series of bits, so that the probability of word $w$ given word $w_I$ can be written as the product of probabilities that each bit is either on or off (represented above through the $\\mathrm{ch}$ function)."
     ]
    },
    {
     "cell_type": "code",
     "collapsed": false,
     "input": [
      "# An example binary huffman tree.\n",
      "!dot -Tpng graphs/bht.dot -o graphs/bht.png\n",
      "from IPython.display import Image\n",
      "Image(filename='graphs/bht.png') \n",
      "\n",
      "# Note that it is a prefix tree: you know the total length after each point given bits to that point."
     ],
     "language": "python",
     "metadata": {},
     "outputs": [
      {
       "metadata": {},
       "output_type": "pyout",
       "png": "[encoded data removed]",
       "prompt_number": 1,
       "text": [
        "<IPython.core.display.Image at 0x7fc695aa8748>"
       ]
      }
     ],
     "prompt_number": 1
    },
    {
     "cell_type": "markdown",
     "metadata": {},
     "source": [
      "Given a fitted representation, we can score any new sentence (and sum across them for documents) according to the model _implied_ by the training process.  This gives a document (log) probability under that representation.  This can be calculated for language representations trained on each of the corpora associated with some class labels.  When combined with priors for each class label and inversion via Bayes rule, the document probabilities provide class probabilities."
     ]
    },
    {
     "cell_type": "markdown",
     "metadata": {},
     "source": [
      "Comparators would be any linear model regression onto phrase counts (e.g., the logistic lasso below),  the [doc2vec](http://arxiv.org/abs/1405.4053) machinery (also built into gensim), and the [Socher et al](http://nlp.stanford.edu/~socherr/EMNLP2013_RNTN.pdf) RNTN.  The doc2vec tool maps from documents to a vector space of fixed dimension, which can then be used as input to off-the-shelf machine learners.  The latter builds the sentiment/meaning into the model itself, and conditions upon this information during the training process.\n",
      "\n",
      "Advantages of the inversion framework include:\n",
      "* modularity: it works for any model of language that can (or its training can) be interpreted as a probabilistic model.\n",
      "* transparency and replicability: a simple extension of any software for training distributed language models.\n",
      "* performance (consider also 'training' the class priors, so as to correct for generative model misspecificiation).\n",
      "\n"
     ]
    },
    {
     "cell_type": "markdown",
     "metadata": {},
     "source": [
      "## Example: yelp data\n",
      "\n",
      "We'll look at some proof-of-concept on the kaggle [yelp recruiting contest data](http://www.kaggle.com/c/yelp-recruiting/data), split into star-rating files via [parseyelp.py](https://github.com/TaddyLab/deepir/blob/master/code/parseyelp.py)."
     ]
    },
    {
     "cell_type": "code",
     "collapsed": false,
     "input": [
      "%load_ext autoreload\n",
      "%autoreload 2\n",
      "import sys\n",
      "import numpy as np\n",
      "from copy import deepcopy\n",
      "from gensim.models import Word2Vec\n",
      "\n",
      "fin = open(\"data/yelptrain1star.txt\")\n",
      "firstbadreview = fin.readline()\n",
      "print(firstbadreview)"
     ],
     "language": "python",
     "metadata": {},
     "outputs": [
      {
       "output_type": "stream",
       "stream": "stdout",
       "text": [
        " no fast version \n",
        " u can go there n check car out . if u wanna buy 00 there ? that wrong move ! if u even want car service from there ? u made biggest mistake of ur life !! i had 00 time aske my girlfriend take my car there oil service gue what ? they rippe my girlfriend off by ly how bad my car now . if without fix problem . might br some seriou accident . then she did what they said . 00 brand new tire tim belt 00 new brake pad . u know why worst ? all of those above i had just change 00 month before !!! what trashy dealer that ? people better off go somewhere ! \n",
        "\n"
       ]
      }
     ],
     "prompt_number": 1
    },
    {
     "cell_type": "code",
     "collapsed": false,
     "input": [
      "rev = [s.split() for s in firstbadreview.split(\" . \") ]\n",
      "model = Word2Vec(sg=1)\n",
      "model.build_vocab(rev)  \n",
      "model.train(rev)\n",
      "model.score(rev)"
     ],
     "language": "python",
     "metadata": {},
     "outputs": [
      {
       "metadata": {},
       "output_type": "pyout",
       "prompt_number": 5,
       "text": [
        "array([  0.        , -62.23587799,   0.        ,   0.        ,\n",
        "         0.        ,  -1.42261827, -14.85223484], dtype=float32)"
       ]
      }
     ],
     "prompt_number": 5
    },
    {
     "cell_type": "code",
     "collapsed": false,
     "input": [
      "import re\n",
      "alteos = re.compile(r'( [!\\?] )')\n",
      "\n",
      "## define a couple of generators to produce reviews/sentences\n",
      "def YelpReviews( stars = [1,2,3,4,5], prefix=\"train\" ):\n",
      "    for nstar in stars:\n",
      "        for line in open(\"data/yelp%s%dstar.txt\"%(prefix,nstar)):\n",
      "            line = alteos.sub(r' \\1 . ', line).rstrip(\"( \\. )*\\n\")\n",
      "            yield [s.split() for s in line.split(\" . \")]\n"
     ],
     "language": "python",
     "metadata": {},
     "outputs": [],
     "prompt_number": 6
    },
    {
     "cell_type": "code",
     "collapsed": false,
     "input": [
      "reviews = {}\n",
      "reviews['neg'] = list(YelpReviews([1,2]))\n",
      "reviews['pos'] = list(YelpReviews([5]))\n",
      "nbad = len(reviews['neg'])\n",
      "ngood = len(reviews['pos'])"
     ],
     "language": "python",
     "metadata": {},
     "outputs": [],
     "prompt_number": 7
    },
    {
     "cell_type": "code",
     "collapsed": false,
     "input": [
      "reviews['neg'][0][:4]"
     ],
     "language": "python",
     "metadata": {},
     "outputs": [
      {
       "metadata": {},
       "output_type": "pyout",
       "prompt_number": 8,
       "text": [
        "[['u', 'can', 'go', 'there', 'n', 'check', 'car', 'out'],\n",
        " ['if', 'u', 'wanna', 'buy', '00', 'there', '?'],\n",
        " ['that', 'wrong', 'move', '!'],\n",
        " ['if', 'u', 'even', 'want', 'car', 'service', 'from', 'there', '?']]"
       ]
      }
     ],
     "prompt_number": 8
    },
    {
     "cell_type": "code",
     "collapsed": false,
     "input": [
      "jointmodel = Word2Vec(sg=0, workers=4)\n",
      "allsentences = [s for r in reviews['neg']+reviews['pos'] for s in r]\n",
      "np.random.shuffle(allsentences)\n",
      "jointmodel.build_vocab(allsentences)  \n",
      "models = {}\n",
      "models['neg'] = deepcopy(jointmodel)\n",
      "models['pos'] = deepcopy(jointmodel)"
     ],
     "language": "python",
     "metadata": {},
     "outputs": [],
     "prompt_number": 9
    },
    {
     "cell_type": "code",
     "collapsed": false,
     "input": [
      "sentneg = [s for r in reviews['neg'] for s in r]\n",
      "sentpos = [s for r in reviews['pos'] for s in r]"
     ],
     "language": "python",
     "metadata": {},
     "outputs": [],
     "prompt_number": 10
    },
    {
     "cell_type": "code",
     "collapsed": false,
     "input": [
      "def trainx(mod, sent, T=10):\n",
      "    mod.min_alpha = mod.alpha\n",
      "    for epoch in range(T):\n",
      "        print(epoch)\n",
      "        np.random.shuffle(sent)\n",
      "        mod.train(sent)\n",
      "        mod.alpha *= 0.9  \n",
      "        mod.min_alpha = mod.alpha  # fix the learning rate, no decay\n"
     ],
     "language": "python",
     "metadata": {},
     "outputs": [],
     "prompt_number": 11
    },
    {
     "cell_type": "code",
     "collapsed": false,
     "input": [
      "trainx( models['neg'], sentneg ,1)\n",
      "trainx( models['pos'], sentpos ,1)\n"
     ],
     "language": "python",
     "metadata": {},
     "outputs": [
      {
       "output_type": "stream",
       "stream": "stdout",
       "text": [
        "0\n",
        "0"
       ]
      },
      {
       "output_type": "stream",
       "stream": "stdout",
       "text": [
        "\n"
       ]
      }
     ],
     "prompt_number": 12
    },
    {
     "cell_type": "code",
     "collapsed": false,
     "input": [
      "def nearby(word):\n",
      "    print(word)\n",
      "    print( \"POS:\", end=\" \")\n",
      "    for (w,v) in models[\"pos\"].most_similar([word]):\n",
      "        print(w, end=\" \")\n",
      "    print( \"\\nNEG:\", end=\" \")\n",
      "    for (w,v) in models[\"neg\"].most_similar([word]):\n",
      "        print(w, end=\" \")\n",
      "    print(\"\\n\")\n"
     ],
     "language": "python",
     "metadata": {},
     "outputs": [],
     "prompt_number": 13
    },
    {
     "cell_type": "code",
     "collapsed": false,
     "input": [
      "nearby(\"food\")\n",
      "nearby(\"service\")\n",
      "nearby(\"value\")\n",
      "nearby(\"atmosphere\")"
     ],
     "language": "python",
     "metadata": {},
     "outputs": [
      {
       "output_type": "stream",
       "stream": "stdout",
       "text": [
        "food\n",
        "POS: cuisine zone fare authentical value cofffee dishe childcare mattar chaat \n",
        "NEG: cuisine fare hamburger bulgogi siam reproduce soninlaw giardiniera guinne lahna \n",
        "\n",
        "service\n",
        "POS: staff serivce sevice unbelievab lifter atomosphere waitstaff 2day dustin atomsphere \n",
        "NEG: relation satisfaction serivce loyal sevice !!!!!!!!!!!!!!!!!!!!!!! execution ventilation hubbard unbelievab \n",
        "\n",
        "value\n",
        "POS: aiport dane aswell $... succe mmi tradein food grubbin rooste \n",
        "NEG: qualtiy sneaky health relation awarene longtime reccommend sanctum spend command \n",
        "\n",
        "atmosphere\n",
        "POS: environment ambiance ambience vibe atmoshere atmospher atomosphere lar attitude personality \n",
        "NEG: ambiance decor repetitive ambience weather vibe decorate techno j gastrique \n",
        "\n"
       ]
      }
     ],
     "prompt_number": 14
    },
    {
     "cell_type": "markdown",
     "metadata": {},
     "source": [
      "Everything to this point uses standard gensim.  For the next bit, we're using the `score` functions implemented in the [taddylab fork](https://github.com/TaddyLab/gensim)."
     ]
    },
    {
     "cell_type": "code",
     "collapsed": false,
     "input": [
      "prior = ngood/(nbad+ngood)\n",
      "prior"
     ],
     "language": "python",
     "metadata": {},
     "outputs": [
      {
       "metadata": {},
       "output_type": "pyout",
       "prompt_number": 15,
       "text": [
        "0.6644777004517468"
       ]
      }
     ],
     "prompt_number": 15
    },
    {
     "cell_type": "code",
     "collapsed": false,
     "input": [
      "def getscore(rev):\n",
      "    sentences =  [(i,s) for i,r in enumerate(rev) for s in r]\n",
      "    eta = np.column_stack( \n",
      "                    ( models['neg'].score([s for i,s in sentences]),\n",
      "                      models['pos'].score([s for i,s in sentences]) ) )\n",
      "    probs = np.exp( eta - eta.max(axis=1)[:,np.newaxis] )\n",
      "    probs[:,0] *= (1-prior)\n",
      "    probs[:,1] *= prior\n",
      "    probs = probs/probs.sum(axis=1)[:,np.newaxis]\n",
      "    agg = np.column_stack( \n",
      "                    ( np.bincount([i for i,s in sentences], probs[:,0]),\n",
      "                      np.bincount([i for i,s in sentences], probs[:,1]) ) )\n",
      "    probpos = agg[:,1]/np.bincount([i for i,s in sentences])\n",
      "    return(probpos)"
     ],
     "language": "python",
     "metadata": {},
     "outputs": [],
     "prompt_number": 16
    },
    {
     "cell_type": "code",
     "collapsed": false,
     "input": [
      "testrev = {}\n",
      "testrev['neg'] = list(YelpReviews([1,2], \"test\"))\n",
      "testrev['pos'] = list(YelpReviews([5], \"test\"))"
     ],
     "language": "python",
     "metadata": {},
     "outputs": [],
     "prompt_number": 14
    },
    {
     "cell_type": "code",
     "collapsed": false,
     "input": [
      "scores = {}\n",
      "scores['neg'] = getscore(testrev['neg'])\n",
      "scores['pos'] = getscore(testrev['pos'])"
     ],
     "language": "python",
     "metadata": {},
     "outputs": []
    },
    {
     "cell_type": "code",
     "collapsed": false,
     "input": [
      "import matplotlib.pyplot as plt\n",
      "%matplotlib inline\n",
      "\n",
      "fig = plt.figure(figsize=(12,4))\n",
      "\n",
      "fig.add_subplot(1,2,1)\n",
      "plt.hist(scores['neg'],color=\"red\", alpha=.5, normed=1)\n",
      "plt.title(\"neg\")\n",
      "plt.xlabel(\"prob positive\")\n",
      "plt.ylabel(\"density\")\n",
      "fig.add_subplot(1,2,2)\n",
      "plt.hist(scores['pos'],color=\"green\", alpha=.5, normed=1)\n",
      "plt.title(\"pos\")\n",
      "plt.xlabel(\"prob positive\")\n",
      "plt.ylabel(\"density\")\n"
     ],
     "language": "python",
     "metadata": {},
     "outputs": []
    },
    {
     "cell_type": "code",
     "collapsed": false,
     "input": [
      "yhat = {'pos': scores['pos']>0.5, 'neg': scores['neg']>0.5}\n",
      "for sntmnt in yhat:\n",
      "    print( \"mean %s: %.3f\" % (sntmnt, yhat[sntmnt].mean()))\n",
      "print( \"MCR: %.3f\" % (1-(yhat['pos'].mean() + (1-yhat['neg'].mean()))/2) )"
     ],
     "language": "python",
     "metadata": {},
     "outputs": []
    },
    {
     "cell_type": "markdown",
     "metadata": {},
     "source": [
      "So the fit looks nice and tight. OOS we get around 7% misclassification rate on the reviews."
     ]
    },
    {
     "cell_type": "markdown",
     "metadata": {},
     "source": [
      "### Alternatively, linear (lasso logistic) analysis\n",
      "\n",
      "We'll export to R, because sci-kit learn doesn't seem have an L1 path algorithm for logistic regression.  The model is then fit via the [gamlr](https://github.com/TaddyLab/gamlr) package, with [optimal penalty size selected via corrected AICc](http://arxiv.org/abs/1308.5623),  following the code in [yelp linmod.R](https://github.com/TaddyLab/deepir/blob/master/code/yelp_linmod.R)."
     ]
    },
    {
     "cell_type": "code",
     "collapsed": false,
     "input": [
      "from gensim.models import Phrases\n",
      "ngram = Phrases(allsentences,threshold=10.0)"
     ],
     "language": "python",
     "metadata": {},
     "outputs": []
    },
    {
     "cell_type": "code",
     "collapsed": false,
     "input": [
      "for w in ngram[reviews[\"pos\"][11]]:\n",
      "        print(w, end=\" \")"
     ],
     "language": "python",
     "metadata": {},
     "outputs": []
    },
    {
     "cell_type": "code",
     "collapsed": false,
     "input": [
      "i = 0\n",
      "with open(\"data/yelp_phrases.txt\", \"w\") as fout:\n",
      "    for r in reviews['neg']:\n",
      "        for s in r:\n",
      "            for w in s:\n",
      "                if \"|\" not in w:\n",
      "                    fout.write(\"%d|%s|0|train\\n\" % (i,w))\n",
      "        i += 1\n",
      "    for r in reviews['pos']:\n",
      "        for s in r:\n",
      "            for w in s:\n",
      "                if \"|\" not in w:\n",
      "                    fout.write(\"%d|%s|1|train\\n\" % (i,w))\n",
      "        i += 1\n",
      "    for r in testrev['neg']:\n",
      "        for s in r:\n",
      "            for w in s:\n",
      "                if \"|\" not in w:\n",
      "                    fout.write(\"%d|%s|0|test\\n\" % (i,w))\n",
      "        i += 1\n",
      "    for r in testrev['pos']:\n",
      "        for s in r:\n",
      "            for w in s:\n",
      "                if \"|\" not in w:\n",
      "                    fout.write(\"%d|%s|1|test\\n\" % (i,w))\n",
      "        i += 1\n"
     ],
     "language": "python",
     "metadata": {},
     "outputs": []
    },
    {
     "cell_type": "code",
     "collapsed": false,
     "input": [
      "!Rscript code/linmod.R yelp"
     ],
     "language": "python",
     "metadata": {},
     "outputs": []
    },
    {
     "cell_type": "code",
     "collapsed": false,
     "input": [
      "## plot the fit from R \n",
      "from IPython.display import Image\n",
      "Image(filename='graphs/yelp_logistic.png', width=800) "
     ],
     "language": "python",
     "metadata": {},
     "outputs": []
    },
    {
     "cell_type": "markdown",
     "metadata": {},
     "source": [
      "Still can't beat a linear model though... its best to watch your degrees of freedom in these high dimensions!"
     ]
    }
   ],
   "metadata": {}
  }
 ]
}