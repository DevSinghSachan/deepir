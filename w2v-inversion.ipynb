{
 "metadata": {
  "name": "",
  "signature": "sha256:84a34d2a0909d5d1c06a0fa2df2b1fe670936952e77b6ca92d205e0d2cbfd61a"
 },
 "nbformat": 3,
 "nbformat_minor": 0,
 "worksheets": [
  {
   "cells": [
    {
     "cell_type": "heading",
     "level": 1,
     "metadata": {},
     "source": [
      "Document classification by inversion of distributed language representations"
     ]
    },
    {
     "cell_type": "markdown",
     "metadata": {},
     "source": [
      "The skip-gram probabalistic language model is trained to, for window $b$, maximize for each word\n",
      "\n",
      "$$\n",
      "\\prod_{k\\neq t,~k=t-b}^{t+b} \\mathrm{p}(w_k\\mid w_t)\n",
      "$$\n",
      "\n",
      "This probability is calculated for all possible word pairs over a sentence (some defined short chunk of languages).\n",
      "\n",
      "In the word2vec formulation, each probability is represented as\n",
      "\n",
      "$$\n",
      "\\mathrm{p}(w \\mid w_I) \\prod_{j=1}^{L(w)-1} \\sigma\\left( \\mathrm{ch}\\left[\\eta(w,j+1)\\right] \\mathbf{u}_{\\eta(w,j)}^\\top \\mathbf{v}_{w_I} \\right)\n",
      "$$\n",
      "\n",
      "where \n",
      "* $\\eta(w,i)$ is the $i^{th}$ node in a binary huffman tree representation (path) for word $w$, \n",
      "* $\\sigma(x) = 1/(1 + \\exp[-x])$,\n",
      "* and $\\mathrm{ch}(\\eta) \\in \\{-1,+1\\}$ translates from left/right child to +/- one.\n",
      "\n",
      "The binary huffman tree represents each word as a series of bits, so that the probability of word $w$ given word $w_I$ can be written as the product of probabilities that each bit is either on or off (represented above through the $\\mathrm{ch}$ function)."
     ]
    },
    {
     "cell_type": "code",
     "collapsed": false,
     "input": [
      "# An example binary huffman tree.\n",
      "!dot -Tpng graphs/bht.dot -o graphs/bht.png\n",
      "from IPython.display import Image\n",
      "Image(filename='graphs/bht.png') \n",
      "\n",
      "\n",
      "# Note that it is a prefix tree: you know the total length after each point given bits to that point."
     ],
     "language": "python",
     "metadata": {},
     "outputs": [
      {
       "metadata": {},
       "output_type": "pyout",
       "png": "[encoded data removed]",
       "prompt_number": 12,
       "text": [
        "<IPython.core.display.Image at 0x7f649d372f98>"
       ]
      }
     ],
     "prompt_number": 12
    },
    {
     "cell_type": "markdown",
     "metadata": {},
     "source": [
      "Given a fitted representation, we can score any new sentence (and sum across them for documents) according to the model _implied_ by the training process.  This gives a document (log) probability under that representation.  This can be calculated for language representations trained on each of the corpora associated with some class labels.  When combined with priors for each class label and inversion via Bayes rule, the document probabilities provide class probabilities."
     ]
    },
    {
     "cell_type": "markdown",
     "metadata": {},
     "source": [
      "Comparators would be the [doc2vec](http://arxiv.org/abs/1405.4053) machinery (also built into gensim) and the [Socher et al](http://nlp.stanford.edu/~socherr/EMNLP2013_RNTN.pdf) RNTN.  The first maps from documents to a vector space of fixed dimension, which can then be used as input to off-the-shelf machine learners.  The latter builds the sentiment/meaning into the model itself, and conditions upon this information during the training process.\n",
      "\n",
      "Advantages of the inversion framework include:\n",
      "* modularity: it works for any model of language that can (or its training can) be interpreted as a probabilistic model.\n",
      "* transparency and replicability: a simple extension of any software for training distributed language models.\n",
      "* performance (consider also 'training' the class priors, so as to correct for generative model misspecificiation).\n",
      "\n",
      "Note that we could also invert the doc2vec fits, which would allow direct comparison between inversion and application of generic regression on the vectors."
     ]
    },
    {
     "cell_type": "markdown",
     "metadata": {},
     "source": [
      "### Example: yelp data\n",
      "\n",
      "We'll look at some proof-of-concept on the kaggle [yelp recruiting contest data](http://www.kaggle.com/c/yelp-recruiting/data), split into star-rating files via [parseyelp.py](https://github.com/TaddyLab/deepir/blob/master/code/parseyelp.py)"
     ]
    },
    {
     "cell_type": "code",
     "collapsed": false,
     "input": [
      "%load_ext autoreload\n",
      "%autoreload 2\n",
      "import sys\n",
      "import numpy as np\n",
      "from copy import deepcopy\n",
      "from gensim.models import Word2Vec\n",
      "fin = open(\"data/yelp1star.txt\")\n",
      "fin.readline()"
     ],
     "language": "python",
     "metadata": {},
     "outputs": [
      {
       "metadata": {},
       "output_type": "pyout",
       "prompt_number": 2,
       "text": [
        "' u can go there n check car out . u wanna buy there ? thats wrong move ! u even want car service from there ? u made biggest mistake ur life !! i had time asked my girlfriend take my car there oil service guess what ? they ripped my girlfriend off by lying how bad my car now . without fixing problem . might bring some serious accident . then she did what they said . brand new tires timing belt new brake pads . u know whys worst ? all those above i had just changed months before !!! what trashy dealer that ? people better off go somewhere ! \\n'"
       ]
      }
     ],
     "prompt_number": 2
    },
    {
     "cell_type": "code",
     "collapsed": false,
     "input": [
      "def YelpReviews( stars = [1,2,3,4,5] ):\n",
      "    for nstar in stars:\n",
      "        for line in open(\"data/yelp%dstar.txt\"%nstar):\n",
      "            for clause in line.rstrip(\"( \\. )*\\n\").split(\" . \"): \n",
      "                yield clause.split()"
     ],
     "language": "python",
     "metadata": {},
     "outputs": [],
     "prompt_number": 3
    },
    {
     "cell_type": "code",
     "collapsed": false,
     "input": [
      "reviews = {}\n",
      "reviews['bad'] = list(YelpReviews([1,2]))\n",
      "reviews['good'] = list(YelpReviews([5]))\n",
      "nbad = len(reviews['bad'])\n",
      "ngood = len(reviews['good'])\n",
      "\n",
      "ntest = 10000\n",
      "testbad = np.random.choice(range(nbad),ntest)\n",
      "testgood = np.random.choice(range(ngood),ntest)\n",
      "reviews['bad'][testbad[0]]"
     ],
     "language": "python",
     "metadata": {},
     "outputs": [
      {
       "metadata": {},
       "output_type": "pyout",
       "prompt_number": 4,
       "text": [
        "['so', 'we', 'set', 'up', 'another', 'appointment', 'repair', 'technician']"
       ]
      }
     ],
     "prompt_number": 4
    },
    {
     "cell_type": "code",
     "collapsed": false,
     "input": [
      "jointmodel = Word2Vec()\n",
      "jointmodel.build_vocab(YelpReviews())  \n",
      "starmods = {}\n",
      "starmods['bad'] = deepcopy(jointmodel)\n",
      "starmods['good'] = deepcopy(jointmodel)\n",
      "starmods['bad'].train( np.delete(reviews['bad'],testbad) )\n",
      "starmods['good'].train( np.delete(reviews['good'],testgood) )\n",
      "print( [w for (w,v) in starmods[\"bad\"].most_similar([\"service\"])] )\n",
      "print( [w for (w,v) in starmods[\"good\"].most_similar([\"service\"])] )"
     ],
     "language": "python",
     "metadata": {},
     "outputs": [
      {
       "output_type": "stream",
       "stream": "stdout",
       "text": [
        "['disengaged', 'barbarian', 'inconsistant', 'tapinos', 'abominable', 'deplorable', 'sexiest', 'elsa', 'horrendous', 'nonexistent']\n",
        "['sevice', 'kimptons', 'garners', 'atmo', 'kendall', 'timeliness', 'exemplary', 'consistantly', 'ambience', 'speedy']\n"
       ]
      }
     ],
     "prompt_number": 5
    },
    {
     "cell_type": "markdown",
     "metadata": {},
     "source": [
      "Everything to this point uses standard gensim.  For the next bit, we're using the `score` functions implemented in the [taddylab fork](https://github.com/TaddyLab/gensim)"
     ]
    },
    {
     "cell_type": "code",
     "collapsed": false,
     "input": [
      "scores = {}\n",
      "scores['bad'] = np.column_stack( (starmods['bad'].score(reviews['bad']),\n",
      "                                  starmods['good'].score(reviews['bad'])) )\n",
      "scores['good'] = np.column_stack( (starmods['bad'].score(reviews['good']),\n",
      "                                  starmods['good'].score(reviews['good'])))\n",
      "\n",
      "scoremat = np.vstack((scores['bad'],scores['good']))\n",
      "#np.save(\"scoremat\", scoremat)\n",
      "print(scoremat[testbad[0]])\n"
     ],
     "language": "python",
     "metadata": {},
     "outputs": [
      {
       "output_type": "stream",
       "stream": "stdout",
       "text": [
        "[-361.60952759 -368.97229004]\n"
       ]
      }
     ],
     "prompt_number": 6
    },
    {
     "cell_type": "code",
     "collapsed": false,
     "input": [
      "eta = scoremat - scoremat.max(axis=1)[:,np.newaxis]\n",
      "print(eta[1000])\n",
      "\n",
      "expeta = np.exp(eta)\n",
      "print(expeta[1000])\n",
      "\n",
      "prior = np.array([len(reviews[\"bad\"]),len(reviews[\"good\"])])\n",
      "prior = prior/sum(prior)\n",
      "print(prior)\n",
      "\n",
      "eepi = expeta*prior\n",
      "print(eepi[1000])\n",
      "\n",
      "probs = eepi/eepi.sum(axis=1)[:,np.newaxis]\n",
      "print(probs[1000])\n",
      "\n",
      "predy = probs.argmax(axis=1)\n",
      "print(predy[1000])"
     ],
     "language": "python",
     "metadata": {},
     "outputs": [
      {
       "output_type": "stream",
       "stream": "stdout",
       "text": [
        "[-15.69458008   0.        ]\n",
        "[  1.52732156e-07   1.00000000e+00]"
       ]
      },
      {
       "output_type": "stream",
       "stream": "stdout",
       "text": [
        "\n",
        "[ 0.4087153  0.5912847]\n",
        "[  6.24239686e-08   5.91284702e-01]\n",
        "[  1.05573443e-07   9.99999894e-01]\n",
        "1\n"
       ]
      }
     ],
     "prompt_number": 7
    },
    {
     "cell_type": "code",
     "collapsed": false,
     "input": [
      "print( np.mean(predy[:nbad]) )\n",
      "print( np.mean(predy[nbad:]) )"
     ],
     "language": "python",
     "metadata": {},
     "outputs": [
      {
       "output_type": "stream",
       "stream": "stdout",
       "text": [
        "0.263496330842\n",
        "0.807890320562\n"
       ]
      }
     ],
     "prompt_number": 8
    },
    {
     "cell_type": "code",
     "collapsed": false,
     "input": [
      "import matplotlib.pyplot as plt\n",
      "%matplotlib inline\n",
      "\n",
      "fig = plt.figure(figsize=(12,4))\n",
      "\n",
      "fig.add_subplot(1,2,1)\n",
      "plt.hist(probs[:len(reviews[\"bad\"]),1],color=\"lightgrey\", normed=1)\n",
      "fig.add_subplot(1,2,2)\n",
      "out = plt.hist(probs[len(reviews[\"bad\"]):,1],color=\"lightgrey\", normed=1)\n",
      "\n"
     ],
     "language": "python",
     "metadata": {},
     "outputs": [
      {
       "metadata": {},
       "output_type": "display_data",
       "png": "[encoded data removed]",
       "text": [
        "<matplotlib.figure.Figure at 0x7f6516ac8400>"
       ]
      }
     ],
     "prompt_number": 9
    },
    {
     "cell_type": "code",
     "collapsed": false,
     "input": [
      "oospredbad = scores[\"bad\"].argmax(axis=1)[testbad]\n",
      "oospredgood = scores[\"good\"].argmax(axis=1)[testgood]\n",
      "print(np.mean(oospredbad))\n",
      "print(np.mean(oospredgood))"
     ],
     "language": "python",
     "metadata": {},
     "outputs": [
      {
       "output_type": "stream",
       "stream": "stdout",
       "text": [
        "0.2625\n",
        "0.7509\n"
       ]
      }
     ],
     "prompt_number": 10
    },
    {
     "cell_type": "markdown",
     "metadata": {},
     "source": [
      "### Alternatively, export word counts for linear analysis in R"
     ]
    },
    {
     "cell_type": "code",
     "collapsed": false,
     "input": [
      "from gensim.models import Phrases\n",
      "ngram = Phrases(YelpReviews(),threshold=8.0)\n",
      "list(ngram[YelpReviews([1])])[5]"
     ],
     "language": "python",
     "metadata": {},
     "outputs": [
      {
       "metadata": {},
       "output_type": "pyout",
       "prompt_number": 11,
       "text": [
        "['brand_new', 'tires', 'timing_belt', 'new', 'brake_pads']"
       ]
      }
     ],
     "prompt_number": 11
    }
   ],
   "metadata": {}
  }
 ]
}