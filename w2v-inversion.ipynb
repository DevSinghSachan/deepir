{
 "metadata": {
  "name": "",
  "signature": "sha256:cc57571941d780b92b5a6209cb88adde00b5cc93774fca5f453865474dd7f452"
 },
 "nbformat": 3,
 "nbformat_minor": 0,
 "worksheets": [
  {
   "cells": [
    {
     "cell_type": "heading",
     "level": 1,
     "metadata": {},
     "source": [
      "Document classification by inversion of distributed language representations"
     ]
    },
    {
     "cell_type": "markdown",
     "metadata": {},
     "source": [
      "The skip-gram probabalistic language model is trained to, for window $b$, maximize for each word\n",
      "\n",
      "$$\n",
      "\\prod_{k\\neq t,~k=t-b}^{t+b} \\mathrm{p}(w_k\\mid w_t)\n",
      "$$\n",
      "\n",
      "In the word2vec formulation, each probability is represented as\n",
      "\n",
      "$$\n",
      "\\mathrm{p}(w \\mid w_I) \\prod_{j=1}^{L(w)-1} \\sigma\\left( \\mathrm{ch}\\left[\\eta(w,j+1)\\right] \\mathbf{u}_{\\eta(w,j)}^\\top \\mathbf{v}_{w_I} \\right)\n",
      "$$\n",
      "\n",
      "where \n",
      "* $\\eta(w,i)$ is the $i^{th}$ node in a binary huffman tree representation (path) for word $w$, \n",
      "* $\\sigma(x) = 1/(1 + \\exp[-x])$,\n",
      "* and $\\mathrm{ch}(\\eta) \\in \\{-1,+1\\}$ translates from left/right child to +/- one.\n",
      "\n",
      "The binary huffman tree represents each word as a series of bits, so that the probability of word $w$ given word $w_I$ can be written as the product of probabilities that each bit is either on or off (represented above through the $\\mathrm{ch}$ function)."
     ]
    },
    {
     "cell_type": "code",
     "collapsed": false,
     "input": [
      "# An example binary huffman tree.\n",
      "!dot -Tpng graphs/bht.dot -o graphs/bht.png\n",
      "from IPython.display import Image\n",
      "Image(filename='graphs/bht.png') \n",
      "\n",
      "\n",
      "# Note that it is a prefix tree: you know the total length after each point given bits to that point."
     ],
     "language": "python",
     "metadata": {},
     "outputs": [
      {
       "metadata": {},
       "output_type": "pyout",
       "png": "[encoded data removed]",
       "prompt_number": 72,
       "text": [
        "<IPython.core.display.Image at 0x7f5441afba58>"
       ]
      }
     ],
     "prompt_number": 72
    },
    {
     "cell_type": "markdown",
     "metadata": {},
     "source": [
      "Comparators are the [doc2vec](http://arxiv.org/abs/1405.4053) machinery (also built into gensim) and the [Socher et al](http://nlp.stanford.edu/~socherr/EMNLP2013_RNTN.pdf) RNTN.  Both of these approaches build the sentiment/meaning into the model itself, and condition upon this information during the training process.\n",
      "\n",
      "Advantages of the inversion framework include:\n",
      "* modularity: it works for any model of language that can (or its training can) be interpreted as a probabilistic model.\n",
      "* transparency and replicability: a simple extension of any software for training distributed language models.\n",
      "* performance (consider also 'training' the class priors, so as to correct for generative model misspecificiation)."
     ]
    },
    {
     "cell_type": "code",
     "collapsed": false,
     "input": [
      "import numpy as np\n",
      "from gensim.models import Word2Vec\n",
      "from copy import deepcopy"
     ],
     "language": "python",
     "metadata": {},
     "outputs": [],
     "prompt_number": 71
    },
    {
     "cell_type": "code",
     "collapsed": false,
     "input": [
      "fin = open(\"data/yelp1star.txt\")"
     ],
     "language": "python",
     "metadata": {},
     "outputs": [],
     "prompt_number": 2
    },
    {
     "cell_type": "code",
     "collapsed": false,
     "input": [
      "fin.readline()"
     ],
     "language": "python",
     "metadata": {},
     "outputs": [
      {
       "metadata": {},
       "output_type": "pyout",
       "prompt_number": 3,
       "text": [
        "' u can go there n check car out . u wanna buy there ? thats wrong move ! u even want car service from there ? u made biggest mistake ur life !! i had time asked my girlfriend take my car there oil service guess what ? they ripped my girlfriend off by lying how bad my car now . without fixing problem . might bring some serious accident . then she did what they said . brand new tires timing belt new brake pads . u know whys worst ? all those above i had just changed months before !!! what trashy dealer that ? people better off go somewhere ! \\n'"
       ]
      }
     ],
     "prompt_number": 3
    },
    {
     "cell_type": "code",
     "collapsed": false,
     "input": [
      "def YelpReviews( stars = [1,2,3,4,5] ):\n",
      "    for nstar in stars:\n",
      "        for line in open(\"data/yelp%dstar.txt\"%nstar):\n",
      "            for clause in line.rstrip(\"( \\. )*\\n\").split(\" . \"): \n",
      "                yield clause.split()"
     ],
     "language": "python",
     "metadata": {},
     "outputs": [],
     "prompt_number": 4
    },
    {
     "cell_type": "code",
     "collapsed": false,
     "input": [
      "reviews = YelpReviews([1])"
     ],
     "language": "python",
     "metadata": {},
     "outputs": [],
     "prompt_number": 5
    },
    {
     "cell_type": "code",
     "collapsed": false,
     "input": [
      "next(reviews)"
     ],
     "language": "python",
     "metadata": {},
     "outputs": [
      {
       "metadata": {},
       "output_type": "pyout",
       "prompt_number": 6,
       "text": [
        "['u', 'can', 'go', 'there', 'n', 'check', 'car', 'out']"
       ]
      }
     ],
     "prompt_number": 6
    },
    {
     "cell_type": "code",
     "collapsed": false,
     "input": [
      "%time model1 = Word2Vec(YelpReviews([1]))"
     ],
     "language": "python",
     "metadata": {},
     "outputs": [
      {
       "output_type": "stream",
       "stream": "stdout",
       "text": [
        "CPU times: user 1.37 s, sys: 12 ms, total: 1.39 s\n",
        "Wall time: 1.38 s\n"
       ]
      }
     ],
     "prompt_number": 7
    },
    {
     "cell_type": "code",
     "collapsed": false,
     "input": [
      "len(model1.vocab)"
     ],
     "language": "python",
     "metadata": {},
     "outputs": [
      {
       "metadata": {},
       "output_type": "pyout",
       "prompt_number": 8,
       "text": [
        "13484"
       ]
      }
     ],
     "prompt_number": 8
    },
    {
     "cell_type": "code",
     "collapsed": false,
     "input": [
      "jointmodel = Word2Vec()\n",
      "jointmodel.build_vocab(YelpReviews())  "
     ],
     "language": "python",
     "metadata": {},
     "outputs": [],
     "prompt_number": 9
    },
    {
     "cell_type": "code",
     "collapsed": false,
     "input": [
      "starmods = {}\n",
      "for s in range(1,6):\n",
      "    starmods[s] = deepcopy(jointmodel)\n"
     ],
     "language": "python",
     "metadata": {},
     "outputs": [],
     "prompt_number": 10
    },
    {
     "cell_type": "code",
     "collapsed": false,
     "input": [
      "starmods.keys()"
     ],
     "language": "python",
     "metadata": {},
     "outputs": [
      {
       "metadata": {},
       "output_type": "pyout",
       "prompt_number": 11,
       "text": [
        "dict_keys([1, 2, 3, 4, 5])"
       ]
      }
     ],
     "prompt_number": 11
    },
    {
     "cell_type": "code",
     "collapsed": false,
     "input": [
      "for s in starmods:\n",
      "    print(s)\n",
      "    %time starmods[s].train(YelpReviews([s]))"
     ],
     "language": "python",
     "metadata": {},
     "outputs": [
      {
       "output_type": "stream",
       "stream": "stdout",
       "text": [
        "1\n",
        "CPU times: user 17 s, sys: 48.6 ms, total: 17 s"
       ]
      },
      {
       "output_type": "stream",
       "stream": "stdout",
       "text": [
        "\n",
        "Wall time: 16.8 s\n",
        "2\n",
        "CPU times: user 20.1 s, sys: 36.1 ms, total: 20.2 s"
       ]
      },
      {
       "output_type": "stream",
       "stream": "stdout",
       "text": [
        "\n",
        "Wall time: 19.9 s\n",
        "3\n",
        "CPU times: user 30 s, sys: 32.2 ms, total: 30 s"
       ]
      },
      {
       "output_type": "stream",
       "stream": "stdout",
       "text": [
        "\n",
        "Wall time: 29.6 s\n",
        "4\n",
        "CPU times: user 1min, sys: 104 ms, total: 1min"
       ]
      },
      {
       "output_type": "stream",
       "stream": "stdout",
       "text": [
        "\n",
        "Wall time: 59.4 s\n",
        "5\n",
        "CPU times: user 53.7 s, sys: 88.5 ms, total: 53.8 s"
       ]
      },
      {
       "output_type": "stream",
       "stream": "stdout",
       "text": [
        "\n",
        "Wall time: 53.1 s\n"
       ]
      }
     ],
     "prompt_number": 12
    },
    {
     "cell_type": "code",
     "collapsed": false,
     "input": [
      "len(starmods[1]['food'])"
     ],
     "language": "python",
     "metadata": {},
     "outputs": [
      {
       "metadata": {},
       "output_type": "pyout",
       "prompt_number": 15,
       "text": [
        "100"
       ]
      }
     ],
     "prompt_number": 15
    },
    {
     "cell_type": "code",
     "collapsed": false,
     "input": [
      "dir(starmods[1])"
     ],
     "language": "python",
     "metadata": {},
     "outputs": [
      {
       "metadata": {},
       "output_type": "pyout",
       "prompt_number": 16,
       "text": [
        "['__class__',\n",
        " '__contains__',\n",
        " '__delattr__',\n",
        " '__dict__',\n",
        " '__dir__',\n",
        " '__doc__',\n",
        " '__eq__',\n",
        " '__format__',\n",
        " '__ge__',\n",
        " '__getattribute__',\n",
        " '__getitem__',\n",
        " '__gt__',\n",
        " '__hash__',\n",
        " '__init__',\n",
        " '__le__',\n",
        " '__lt__',\n",
        " '__module__',\n",
        " '__ne__',\n",
        " '__new__',\n",
        " '__reduce__',\n",
        " '__reduce_ex__',\n",
        " '__repr__',\n",
        " '__setattr__',\n",
        " '__sizeof__',\n",
        " '__slotnames__',\n",
        " '__str__',\n",
        " '__subclasshook__',\n",
        " '__weakref__',\n",
        " '_get_job_words',\n",
        " '_prepare_sentences',\n",
        " '_vocab_from',\n",
        " 'accuracy',\n",
        " 'alpha',\n",
        " 'build_vocab',\n",
        " 'cbow_mean',\n",
        " 'create_binary_tree',\n",
        " 'doesnt_match',\n",
        " 'hashfxn',\n",
        " 'hs',\n",
        " 'index2word',\n",
        " 'init_sims',\n",
        " 'iter',\n",
        " 'layer1_size',\n",
        " 'load',\n",
        " 'load_word2vec_format',\n",
        " 'log_accuracy',\n",
        " 'make_table',\n",
        " 'min_alpha',\n",
        " 'min_count',\n",
        " 'most_similar',\n",
        " 'most_similar_cosmul',\n",
        " 'n_similarity',\n",
        " 'negative',\n",
        " 'precalc_sampling',\n",
        " 'reset_weights',\n",
        " 'sample',\n",
        " 'save',\n",
        " 'save_word2vec_format',\n",
        " 'seed',\n",
        " 'sg',\n",
        " 'similarity',\n",
        " 'syn0',\n",
        " 'syn0norm',\n",
        " 'syn1',\n",
        " 'table',\n",
        " 'train',\n",
        " 'vocab',\n",
        " 'window',\n",
        " 'workers']"
       ]
      }
     ],
     "prompt_number": 16
    },
    {
     "cell_type": "code",
     "collapsed": false,
     "input": [
      "starmods[1].window"
     ],
     "language": "python",
     "metadata": {},
     "outputs": [
      {
       "metadata": {},
       "output_type": "pyout",
       "prompt_number": 48,
       "text": [
        "5"
       ]
      }
     ],
     "prompt_number": 48
    },
    {
     "cell_type": "code",
     "collapsed": false,
     "input": [
      "starmods[1].vocab[\"food\"].point"
     ],
     "language": "python",
     "metadata": {},
     "outputs": [
      {
       "metadata": {},
       "output_type": "pyout",
       "prompt_number": 26,
       "text": [
        "array([42254, 42252, 42248, 42240, 42225, 42196, 42140], dtype=uint32)"
       ]
      }
     ],
     "prompt_number": 26
    },
    {
     "cell_type": "code",
     "collapsed": false,
     "input": [
      "## investigating train_sg_pair, around li163 in word2vec.py\n",
      "model = deepcopy(starmods[5])\n",
      "word = model.vocab[\"good\"]\n",
      "word2 = model.vocab[\"food\"]\n",
      "l1 = model.syn0[word2.index]\n",
      "\n",
      "## this training happend for all word2 in the window defined by:\n",
      "#reduced_window = random.randint(model.window)  # `b` in the original word2vec code\n",
      "# now go over all words from the (reduced) window, predicting each one in turn\n",
      "#start = max(0, pos - model.window + reduced_window)\n",
      "#for pos2, word2 in enumerate(sentence[start : pos + model.window + 1 - reduced_window], start):\n",
      "## note that the actual window is a randomly reduced from full (default of 5)\n"
     ],
     "language": "python",
     "metadata": {},
     "outputs": [],
     "prompt_number": 29
    },
    {
     "cell_type": "code",
     "collapsed": false,
     "input": [
      "#alpha = 0.025  # stochastic gradient descent learning rate\n",
      "word_count = [1]\n",
      "total_words = 1e5\n",
      "alpha = max(model.min_alpha, model.alpha * (1 - 1.0 * word_count[0] / total_words))\n",
      "\n",
      "l2a = deepcopy(model.syn1[word.point])  # 2d matrix, codelen x layer1_size\n",
      "fa = 1.0 / (1.0 + np.exp(-np.dot(l1, l2a.T)))  # propagate hidden -> output\n",
      "ga = (1 - word.code - fa) * alpha  # vector of error gradients multiplied by the learning rate\n",
      "#if train_w1:\n",
      "model.syn1[word.point] += np.outer(ga, l1)  # learn hidden -> output\n"
     ],
     "language": "python",
     "metadata": {},
     "outputs": [],
     "prompt_number": 44
    },
    {
     "cell_type": "code",
     "collapsed": false,
     "input": [
      "neu1e = np.dot(ga, l2a)  # save error\n",
      "model.syn0[word2.index] += neu1e  # learn input -> hidden"
     ],
     "language": "python",
     "metadata": {},
     "outputs": [],
     "prompt_number": 50
    },
    {
     "cell_type": "code",
     "collapsed": false,
     "input": [
      "np.log(fa)"
     ],
     "language": "python",
     "metadata": {},
     "outputs": [
      {
       "metadata": {},
       "output_type": "pyout",
       "prompt_number": 70,
       "text": [
        "array([-0.93939221, -0.68219507, -0.81842321, -0.58350968, -0.48470274,\n",
        "       -0.37913337, -0.8775478 ], dtype=float32)"
       ]
      }
     ],
     "prompt_number": 70
    }
   ],
   "metadata": {}
  }
 ]
}