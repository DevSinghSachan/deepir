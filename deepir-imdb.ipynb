{
 "metadata": {
  "name": "",
  "signature": "sha256:8b279dc7a5ca5cb512e80c923e70bd1eb3307cbedbdb03fac14d746a0af95407"
 },
 "nbformat": 3,
 "nbformat_minor": 0,
 "worksheets": [
  {
   "cells": [
    {
     "cell_type": "markdown",
     "metadata": {},
     "source": [
      "### Large Movie Review Dataset\n",
      "\n",
      "We'll compare to results from [Maas et al](http://ai.stanford.edu/~amaas/papers/wvSent_acl2011.pdf) and [Le + Mikolov](http://cs.stanford.edu/~quocle/paragraph_vector.pdf) for sentiment prediction on [IMDB review data](http://ai.stanford.edu/~amaas/data/sentiment/)."
     ]
    },
    {
     "cell_type": "code",
     "collapsed": false,
     "input": [
      "import sys\n",
      "import numpy as np\n",
      "from copy import deepcopy\n",
      "from gensim.models import Word2Vec\n"
     ],
     "language": "python",
     "metadata": {},
     "outputs": [],
     "prompt_number": 1
    },
    {
     "cell_type": "code",
     "collapsed": false,
     "input": [
      "IMDBreviews(path):\n",
      "    "
     ],
     "language": "python",
     "metadata": {},
     "outputs": []
    }
   ],
   "metadata": {}
  }
 ]
}