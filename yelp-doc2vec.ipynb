{
 "metadata": {
  "name": "",
  "signature": "sha256:810f4b066c374c4c674612864a54de9c26c9ef1d1047089ce7a1ebe0dc385303"
 },
 "nbformat": 3,
 "nbformat_minor": 0,
 "worksheets": [
  {
   "cells": [
    {
     "cell_type": "code",
     "collapsed": false,
     "input": [
      "%load_ext autoreload\n",
      "%autoreload 2\n",
      "import sys\n",
      "import numpy as np\n",
      "from copy import deepcopy\n",
      "from gensim.models.doc2vec import *\n"
     ],
     "language": "python",
     "metadata": {},
     "outputs": [],
     "prompt_number": 1
    },
    {
     "cell_type": "code",
     "collapsed": false,
     "input": [
      "import re\n",
      "alteos = re.compile(r'( [!\\?] )')\n",
      "\n",
      "def YelpLabeledSentence( stars = [1,2,3,4,5], prefix=\"train\" ):\n",
      "    for nstar in stars:\n",
      "        i = 0\n",
      "        for line in open(\"data/yelp%s%dstar.txt\"%(prefix,nstar)):\n",
      "            line = alteos.sub(r' \\1 . ', line).rstrip(\"( \\. )*\\n\")\n",
      "            lab = \"%s-%d-%d\" % (prefix, nstar, i)\n",
      "            rev = [s.split() for s in line.split(\" . \")]\n",
      "            i += 1\n",
      "            for s in rev:\n",
      "                yield LabeledSentence(s, [lab])\n"
     ],
     "language": "python",
     "metadata": {},
     "outputs": [],
     "prompt_number": 2
    },
    {
     "cell_type": "code",
     "collapsed": false,
     "input": [
      "rev = []\n",
      "gen = YelpLabeledSentence([1])\n",
      "for i in range(30):\n",
      "    rev.append(next(gen))\n",
      "\n",
      "mod = Doc2Vec()\n",
      "mod.build_vocab(rev)\n",
      "mod.train(rev)\n",
      "mod.score(rev)"
     ],
     "language": "python",
     "metadata": {},
     "outputs": [
      {
       "metadata": {},
       "output_type": "pyout",
       "prompt_number": 3,
       "text": [
        "array([ -4.94262457, -13.43570614,   0.        ,  -9.88524914,\n",
        "       -37.46187973, -14.84614468,   0.        ,   0.        ,\n",
        "        -9.88524914,  -7.07655191,  -9.88524914, -22.62182617,\n",
        "         0.        ,   0.        , -19.07137108, -16.95571136,\n",
        "        -4.23740578,  -9.8913393 ,  -4.94262457,   0.        ,\n",
        "        -4.23740578,   0.        , -14.13483524,  -8.48699093,\n",
        "       -37.46187973, -30.37314796,   0.        ,  -4.94871426,\n",
        "       -27.54618263,  -9.88525009], dtype=float32)"
       ]
      }
     ],
     "prompt_number": 3
    },
    {
     "cell_type": "code",
     "collapsed": false,
     "input": [
      "trainsent = list(YelpLabeledSentence())\n",
      "testsent = list(YelpLabeledSentence(prefix=\"test\"))\n",
      "allsent = trainsent + testsent\n",
      "print((allsent[0].words, allsent[0].labels))"
     ],
     "language": "python",
     "metadata": {},
     "outputs": [
      {
       "output_type": "stream",
       "stream": "stdout",
       "text": [
        "(['u', 'can', 'go', 'there', 'n', 'check', 'car', 'out'], ['train-1-0'])\n"
       ]
      }
     ],
     "prompt_number": 4
    },
    {
     "cell_type": "code",
     "collapsed": false,
     "input": [
      "model = Doc2Vec(workers=4,size=100,window=8, dm=0)\n",
      "%time model.build_vocab(allsent)"
     ],
     "language": "python",
     "metadata": {},
     "outputs": [
      {
       "output_type": "stream",
       "stream": "stdout",
       "text": [
        "CPU times: user 31.9 s, sys: 684 ms, total: 32.6 s\n",
        "Wall time: 32.6 s\n"
       ]
      }
     ],
     "prompt_number": 5
    },
    {
     "cell_type": "code",
     "collapsed": false,
     "input": [
      "model.min_alpha = model.alpha\n",
      "for epoch in range(10):\n",
      "    print(epoch, end=\" \")\n",
      "    np.random.shuffle(trainsent)\n",
      "    model.train(trainsent)\n",
      "    model.alpha *= 0.9\n",
      "    model.min_alpha = model.alpha\n",
      "print(\".\")"
     ],
     "language": "python",
     "metadata": {},
     "outputs": [
      {
       "output_type": "stream",
       "stream": "stdout",
       "text": [
        "0 1"
       ]
      },
      {
       "output_type": "stream",
       "stream": "stdout",
       "text": [
        " 2"
       ]
      },
      {
       "output_type": "stream",
       "stream": "stdout",
       "text": [
        " 3"
       ]
      },
      {
       "output_type": "stream",
       "stream": "stdout",
       "text": [
        " 4"
       ]
      },
      {
       "output_type": "stream",
       "stream": "stdout",
       "text": [
        " 5"
       ]
      },
      {
       "output_type": "stream",
       "stream": "stdout",
       "text": [
        " 6"
       ]
      },
      {
       "output_type": "stream",
       "stream": "stdout",
       "text": [
        " 7"
       ]
      },
      {
       "output_type": "stream",
       "stream": "stdout",
       "text": [
        " 8"
       ]
      },
      {
       "output_type": "stream",
       "stream": "stdout",
       "text": [
        " 9"
       ]
      },
      {
       "output_type": "stream",
       "stream": "stdout",
       "text": [
        " ."
       ]
      },
      {
       "output_type": "stream",
       "stream": "stdout",
       "text": [
        "\n"
       ]
      }
     ],
     "prompt_number": 6
    },
    {
     "cell_type": "code",
     "collapsed": false,
     "input": [
      "def nearby(word):\n",
      "    print(word)\n",
      "    for (w,v) in model.most_similar([word]):\n",
      "        print(w, end=\" \")\n",
      "    print(\"\\n\")\n"
     ],
     "language": "python",
     "metadata": {},
     "outputs": [],
     "prompt_number": 7
    },
    {
     "cell_type": "code",
     "collapsed": false,
     "input": [
      "nearby(\"food\")\n",
      "nearby(\"service\")\n",
      "nearby(\"value\")\n",
      "nearby(\"atmosphere\")"
     ],
     "language": "python",
     "metadata": {},
     "outputs": [
      {
       "output_type": "stream",
       "stream": "stdout",
       "text": [
        "food\n",
        "train-5-28698"
       ]
      },
      {
       "output_type": "stream",
       "stream": "stdout",
       "text": [
        " train-5-60542 train-5-21100 train-4-44816 train-5-1059 train-4-45755 train-3-31016 train-2-3029 train-5-46565 train-5-2182 \n",
        "\n",
        "service\n",
        "train-4-22369"
       ]
      },
      {
       "output_type": "stream",
       "stream": "stdout",
       "text": [
        " train-5-23352 train-5-66595 yew train-4-42672 train-5-8733 train-5-4909 train-4-72028 train-5-37583 train-5-49967 \n",
        "\n",
        "value\n",
        "train-3-5531 train-1-4684 train-3-31751 train-2-8546 train-3-24208 train-1-7296 train-4-66883 test-3-2241 train-2-14821 train-5-13754 \n",
        "\n",
        "atmosphere\n",
        "homer"
       ]
      },
      {
       "output_type": "stream",
       "stream": "stdout",
       "text": [
        " suite tangent test-4-2898 breakroom lowerend proverbial test-5-8633 train-4-52612 drafty \n",
        "\n"
       ]
      }
     ],
     "prompt_number": 8
    },
    {
     "cell_type": "code",
     "collapsed": false,
     "input": [
      "model.train_words=False"
     ],
     "language": "python",
     "metadata": {},
     "outputs": [],
     "prompt_number": 9
    },
    {
     "cell_type": "code",
     "collapsed": false,
     "input": [
      "model.min_alpha = model.alpha = 0.025\n",
      "for epoch in range(10):\n",
      "    print(epoch, end=\" \")\n",
      "    np.random.shuffle(testsent)\n",
      "    model.train(testsent)\n",
      "    model.alpha *= 0.9\n",
      "    model.min_alpha = model.alpha\n",
      "print(\".\")"
     ],
     "language": "python",
     "metadata": {},
     "outputs": [
      {
       "output_type": "stream",
       "stream": "stdout",
       "text": [
        "0 1"
       ]
      },
      {
       "output_type": "stream",
       "stream": "stdout",
       "text": [
        " 2"
       ]
      },
      {
       "output_type": "stream",
       "stream": "stdout",
       "text": [
        " 3"
       ]
      },
      {
       "output_type": "stream",
       "stream": "stdout",
       "text": [
        " 4"
       ]
      },
      {
       "output_type": "stream",
       "stream": "stdout",
       "text": [
        " 5"
       ]
      },
      {
       "output_type": "stream",
       "stream": "stdout",
       "text": [
        " 6"
       ]
      },
      {
       "output_type": "stream",
       "stream": "stdout",
       "text": [
        " 7"
       ]
      },
      {
       "output_type": "stream",
       "stream": "stdout",
       "text": [
        " 8"
       ]
      },
      {
       "output_type": "stream",
       "stream": "stdout",
       "text": [
        " 9"
       ]
      },
      {
       "output_type": "stream",
       "stream": "stdout",
       "text": [
        " ."
       ]
      },
      {
       "output_type": "stream",
       "stream": "stdout",
       "text": [
        "\n"
       ]
      }
     ],
     "prompt_number": 10
    },
    {
     "cell_type": "code",
     "collapsed": false,
     "input": [
      "i = re.match(\"train-\\d-\\d+\", \"test-5-74939\")\n",
      "if i: print(\"yes\")"
     ],
     "language": "python",
     "metadata": {},
     "outputs": [],
     "prompt_number": 11
    },
    {
     "cell_type": "code",
     "collapsed": false,
     "input": [
      "itrainneg = [model.vocab[w].index for w in model.vocab if re.match(\"train-[1|2]-\\d+\", w) ]\n",
      "itrainpos = [model.vocab[w].index for w in model.vocab if re.match(\"train-5-\\d+\", w) ]\n",
      "itestneg = [model.vocab[w].index for w in model.vocab if re.match(\"test-[1|2]-\\d+\", w) ]\n",
      "itestpos = [model.vocab[w].index for w in model.vocab if re.match(\"test-5-\\d+\", w) ]"
     ],
     "language": "python",
     "metadata": {},
     "outputs": [],
     "prompt_number": 12
    },
    {
     "cell_type": "code",
     "collapsed": false,
     "input": [
      "xtrain = np.vstack( ( model.syn0[itrainneg,:], model.syn0[itrainpos,:]) )\n",
      "ytrain = np.repeat( [0,1], [len(itrainneg),len(itrainpos)], axis=0)\n",
      "xtest = np.vstack( ( model.syn0[itestneg,:], model.syn0[itestpos,:]) )\n",
      "ytest = np.repeat( [0,1], [len(itestneg),len(itestpos)], axis=0)"
     ],
     "language": "python",
     "metadata": {},
     "outputs": [],
     "prompt_number": 13
    },
    {
     "cell_type": "code",
     "collapsed": false,
     "input": [
      "## try logistic regression\n",
      "from sklearn import linear_model\n",
      "lmreg = linear_model.LogisticRegression()\n",
      "lmreg.fit(xtrain, ytrain)\n",
      "yhatlm = lmreg.predict(xtest)\n",
      "print(\"MCR = %.3f\"%np.mean(yhatlm!=ytest))"
     ],
     "language": "python",
     "metadata": {},
     "outputs": [
      {
       "output_type": "stream",
       "stream": "stdout",
       "text": [
        "MCR = 0.072\n"
       ]
      }
     ],
     "prompt_number": 14
    },
    {
     "cell_type": "code",
     "collapsed": false,
     "input": [
      "## or a random forest\n",
      "from sklearn import ensemble\n",
      "rfreg = ensemble.RandomForestClassifier(100,n_jobs=4)\n",
      "rfreg.fit(xtrain, ytrain)\n",
      "yhatrf = rfreg.predict(xtest)\n",
      "print(\"MCR = %.3f\"%np.mean(yhatrf!=ytest))"
     ],
     "language": "python",
     "metadata": {},
     "outputs": [
      {
       "output_type": "stream",
       "stream": "stdout",
       "text": [
        "MCR = 0.116\n"
       ]
      }
     ],
     "prompt_number": 15
    },
    {
     "cell_type": "markdown",
     "metadata": {},
     "source": [
      "So neither do as well as w2v inversion, which itself doesn't perform as well as a linear model (but it is close)."
     ]
    },
    {
     "cell_type": "markdown",
     "metadata": {},
     "source": [
      "### try 'sentiment' labels"
     ]
    },
    {
     "cell_type": "code",
     "collapsed": false,
     "input": [
      "def YelpNNPSentence( stars = [1,2,5], prefix=\"train\" ):\n",
      "    for nstar in stars:\n",
      "        i = 0\n",
      "        for line in open(\"data/yelp%s%dstar.txt\"%(prefix,nstar)):\n",
      "            line = alteos.sub(r' \\1 . ', line).rstrip(\"( \\. )*\\n\")\n",
      "            if nstar < 3:\n",
      "                lab = \"negativesentiment\"\n",
      "            elif nstar > 4:\n",
      "                lab = \"positivesentiment\"\n",
      "            else:\n",
      "                lab = \"neutralsentiment\"\n",
      "            rev = [s.split() for s in line.split(\" . \")]\n",
      "            i += 1\n",
      "            for s in rev:\n",
      "                yield LabeledSentence(s, [lab])\n"
     ],
     "language": "python",
     "metadata": {},
     "outputs": [],
     "prompt_number": 16
    },
    {
     "cell_type": "code",
     "collapsed": false,
     "input": [
      "nnpsent = list(YelpNNPSentence())\n",
      "print((nnpsent[0].words, nnpsent[0].labels))"
     ],
     "language": "python",
     "metadata": {},
     "outputs": [
      {
       "output_type": "stream",
       "stream": "stdout",
       "text": [
        "(['u', 'can', 'go', 'there', 'n', 'check', 'car', 'out'], ['negativesentiment'])\n"
       ]
      }
     ],
     "prompt_number": 17
    },
    {
     "cell_type": "code",
     "collapsed": false,
     "input": [
      "model = Doc2Vec(workers=4,size=100,window=8, dm=0)\n",
      "%time model.build_vocab(nnpsent)"
     ],
     "language": "python",
     "metadata": {},
     "outputs": [
      {
       "output_type": "stream",
       "stream": "stdout",
       "text": [
        "CPU times: user 7.21 s, sys: 19.7 ms, total: 7.23 s\n",
        "Wall time: 7.23 s\n"
       ]
      }
     ],
     "prompt_number": 18
    },
    {
     "cell_type": "code",
     "collapsed": false,
     "input": [
      "model.min_alpha = model.alpha\n",
      "for epoch in range(20):\n",
      "    print(epoch, end=\" \")\n",
      "    np.random.shuffle(nnpsent)\n",
      "    model.train(nnpsent)\n",
      "    model.alpha *= 0.9\n",
      "    model.min_alpha = model.alpha\n",
      "print(\".\")"
     ],
     "language": "python",
     "metadata": {},
     "outputs": [
      {
       "output_type": "stream",
       "stream": "stdout",
       "text": [
        "0 1"
       ]
      },
      {
       "output_type": "stream",
       "stream": "stdout",
       "text": [
        " 2"
       ]
      },
      {
       "output_type": "stream",
       "stream": "stdout",
       "text": [
        " 3"
       ]
      },
      {
       "output_type": "stream",
       "stream": "stdout",
       "text": [
        " 4"
       ]
      },
      {
       "output_type": "stream",
       "stream": "stdout",
       "text": [
        " 5"
       ]
      },
      {
       "output_type": "stream",
       "stream": "stdout",
       "text": [
        " 6"
       ]
      },
      {
       "output_type": "stream",
       "stream": "stdout",
       "text": [
        " 7"
       ]
      },
      {
       "output_type": "stream",
       "stream": "stdout",
       "text": [
        " 8"
       ]
      },
      {
       "output_type": "stream",
       "stream": "stdout",
       "text": [
        " 9"
       ]
      },
      {
       "output_type": "stream",
       "stream": "stdout",
       "text": [
        " 10"
       ]
      },
      {
       "output_type": "stream",
       "stream": "stdout",
       "text": [
        " 11"
       ]
      },
      {
       "output_type": "stream",
       "stream": "stdout",
       "text": [
        " 12"
       ]
      },
      {
       "output_type": "stream",
       "stream": "stdout",
       "text": [
        " 13"
       ]
      },
      {
       "output_type": "stream",
       "stream": "stdout",
       "text": [
        " 14"
       ]
      },
      {
       "output_type": "stream",
       "stream": "stdout",
       "text": [
        " 15"
       ]
      },
      {
       "output_type": "stream",
       "stream": "stdout",
       "text": [
        " 16"
       ]
      },
      {
       "output_type": "stream",
       "stream": "stdout",
       "text": [
        " 17"
       ]
      },
      {
       "output_type": "stream",
       "stream": "stdout",
       "text": [
        " 18"
       ]
      },
      {
       "output_type": "stream",
       "stream": "stdout",
       "text": [
        " 19"
       ]
      },
      {
       "output_type": "stream",
       "stream": "stdout",
       "text": [
        " ."
       ]
      },
      {
       "output_type": "stream",
       "stream": "stdout",
       "text": [
        "\n"
       ]
      }
     ],
     "prompt_number": 19
    },
    {
     "cell_type": "code",
     "collapsed": false,
     "input": [
      "nearby(\"food\")\n",
      "nearby(\"service\")\n",
      "nearby(\"value\")\n",
      "nearby(\"atmosphere\")"
     ],
     "language": "python",
     "metadata": {},
     "outputs": [
      {
       "output_type": "stream",
       "stream": "stdout",
       "text": [
        "food\n",
        "preface nondrink appliance andreoli gooooood secur capitaliz creame wesley odd \n",
        "\n",
        "service\n",
        "malasada nashville sj steinmart waitron swan registry invaluable downloade marijuana \n",
        "\n",
        "value\n",
        "jonny kitty heartine ham deepfrie outdoorsman watercolor historical inconsistant yourself \n",
        "\n",
        "atmosphere\n",
        "homer suite tangent proverbial drafty cant amongst !!... cold detect \n",
        "\n"
       ]
      }
     ],
     "prompt_number": 20
    },
    {
     "cell_type": "code",
     "collapsed": false,
     "input": [
      "def nearfar(near=[],far=[]):\n",
      "    for w in near:\n",
      "        print(\"+%s\"%w, end=\" \")\n",
      "    for w in far:\n",
      "        print(\"-%s\"%w, end=\" \")\n",
      "    print(\"\")\n",
      "    for (w,v) in model.most_similar(near,far):\n",
      "        print(w, end=\" \")\n",
      "    print(\"\\n\")\n"
     ],
     "language": "python",
     "metadata": {},
     "outputs": [],
     "prompt_number": 21
    },
    {
     "cell_type": "code",
     "collapsed": false,
     "input": [
      "nearfar([\"positivesentiment\"],[\"negativesentiment\"])\n",
      "nearfar([\"negativesentiment\"],[\"positivesentiment\"])\n",
      "nearfar([\"positivesentiment\"])\n",
      "nearfar([\"negativesentiment\"])\n"
     ],
     "language": "python",
     "metadata": {},
     "outputs": [
      {
       "output_type": "stream",
       "stream": "stdout",
       "text": [
        "+positivesentiment -negativesentiment \n",
        "rockbar by judgment allll bracelet unmemorable surrender primavera 26th belowaverage \n",
        "\n",
        "+negativesentiment -positivesentiment \n",
        "fulton disinterest itd geesh popsicle demonstrat sponsor kardashian quesidilla zan \n",
        "\n",
        "+positivesentiment \n",
        "rockbar 26th repainte rotat bossy bernadette thought unmemorable fol belowaverage \n",
        "\n",
        "+negativesentiment \n",
        "disinterest glutton sponsor inta respectful 4pm different .( multiplex ??????? \n",
        "\n"
       ]
      }
     ],
     "prompt_number": 22
    },
    {
     "cell_type": "code",
     "collapsed": false,
     "input": [
      "def YelpReviews( stars = [1,2,3,4,5], prefix=\"train\" ):\n",
      "    for nstar in stars:\n",
      "        for line in open(\"data/yelp%s%dstar.txt\"%(prefix,nstar)):\n",
      "            line = alteos.sub(r' \\1 . ', line).rstrip(\"( \\. )*\\n\")\n",
      "            yield [s.split() for s in line.split(\" . \")]\n"
     ],
     "language": "python",
     "metadata": {},
     "outputs": [],
     "prompt_number": 23
    },
    {
     "cell_type": "code",
     "collapsed": false,
     "input": [
      "testrev = {}\n",
      "testrev['neg'] = list(YelpReviews([1,2],\"test\"))\n",
      "testrev['pos'] = list(YelpReviews([5],\"test\"))\n",
      "\n",
      "reviews = {}\n",
      "reviews['neg'] = list(YelpReviews([1,2]))\n",
      "reviews['pos'] = list(YelpReviews([5]))\n",
      "nbad = len(reviews['neg'])\n",
      "ngood = len(reviews['pos'])\n",
      "prior = ngood/(nbad + ngood)"
     ],
     "language": "python",
     "metadata": {},
     "outputs": [],
     "prompt_number": 24
    },
    {
     "cell_type": "code",
     "collapsed": false,
     "input": [
      "rev = reviews['neg']\n",
      "sentences =  [(i,s) for i,r in enumerate(rev) for s in r][:30]\n",
      "sentences\n",
      "labsentneg = [LabeledSentence(s,[\"negativesentiment\"]) for i,s in sentences]\n",
      "labsentpos = [LabeledSentence(s,[\"positivesentiment\"]) for i,s in sentences]\n",
      "labsentpos[0].labels"
     ],
     "language": "python",
     "metadata": {},
     "outputs": [
      {
       "metadata": {},
       "output_type": "pyout",
       "prompt_number": 25,
       "text": [
        "['positivesentiment']"
       ]
      }
     ],
     "prompt_number": 25
    },
    {
     "cell_type": "code",
     "collapsed": false,
     "input": [
      "def getscore(rev):\n",
      "    sentences =  [(i,s) for i,r in enumerate(rev) for s in r]\n",
      "    labsentneg = [LabeledSentence(s,[\"negativesentiment\"]) for i,s in sentences]\n",
      "    labsentpos = [LabeledSentence(s,[\"positivesentiment\"]) for i,s in sentences]\n",
      "    eta = np.column_stack( \n",
      "                    ( model.score(labsentneg),\n",
      "                      model.score(labsentpos) ) )\n",
      "    probs = np.exp( eta - eta.max(axis=1)[:,np.newaxis] )\n",
      "    #probs *= np.array([(1-prior),prior])\n",
      "    probs = probs/probs.sum(axis=1)[:,np.newaxis]\n",
      "    agg = np.column_stack( \n",
      "                    ( np.bincount([i for i,s in sentences], probs[:,0]),\n",
      "                      np.bincount([i for i,s in sentences], probs[:,1]) ) )\n",
      "    probpos = agg[:,1]/np.bincount([i for i,s in sentences])\n",
      "    return(probpos)"
     ],
     "language": "python",
     "metadata": {},
     "outputs": [],
     "prompt_number": 26
    },
    {
     "cell_type": "code",
     "collapsed": false,
     "input": [
      "scores = {}\n",
      "scores['neg'] = getscore(testrev['neg'])\n",
      "scores['pos'] = getscore(testrev['pos'])"
     ],
     "language": "python",
     "metadata": {},
     "outputs": [],
     "prompt_number": 27
    },
    {
     "cell_type": "code",
     "collapsed": false,
     "input": [
      "import matplotlib.pyplot as plt\n",
      "%matplotlib inline\n",
      "\n",
      "fig = plt.figure(figsize=(12,4))\n",
      "\n",
      "fig.add_subplot(1,2,1)\n",
      "plt.hist(scores['neg'],color=\"red\", alpha=.5, normed=1)\n",
      "plt.title(\"neg\")\n",
      "plt.xlabel(\"prob positive\")\n",
      "plt.ylabel(\"density\")\n",
      "fig.add_subplot(1,2,2)\n",
      "plt.hist(scores['pos'],color=\"green\", alpha=.5, normed=1)\n",
      "plt.title(\"pos\")\n",
      "plt.xlabel(\"prob positive\")\n",
      "plt.ylabel(\"density\")\n"
     ],
     "language": "python",
     "metadata": {},
     "outputs": [
      {
       "metadata": {},
       "output_type": "pyout",
       "prompt_number": 28,
       "text": [
        "<matplotlib.text.Text at 0x29ba44400>"
       ]
      },
      {
       "metadata": {},
       "output_type": "display_data",
       "png": "[encoded data removed]",
       "text": [
        "<matplotlib.figure.Figure at 0x108bf2b70>"
       ]
      }
     ],
     "prompt_number": 28
    },
    {
     "cell_type": "code",
     "collapsed": false,
     "input": [
      "yhat = {'pos': scores['pos']>0.5, 'neg': scores['neg']>0.5}\n",
      "for sntmnt in yhat:\n",
      "    print( \"mean %s: %.3f\" % (sntmnt, yhat[sntmnt].mean()))\n",
      "print( \"MCR: %.3f\" % (1-(yhat['pos'].mean() + (1-yhat['neg'].mean()))/2) )"
     ],
     "language": "python",
     "metadata": {},
     "outputs": [
      {
       "output_type": "stream",
       "stream": "stdout",
       "text": [
        "mean neg: 0.080\n",
        "mean pos: 0.901\n",
        "MCR: 0.089\n"
       ]
      }
     ],
     "prompt_number": 29
    }
   ],
   "metadata": {}
  }
 ]
}