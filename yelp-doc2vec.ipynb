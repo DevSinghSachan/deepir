{
 "metadata": {
  "name": "",
  "signature": "sha256:3b05d9bf48abe01d5d80c7fb39479ab20bffd4fdccb12ea4378abfca450fe3c3"
 },
 "nbformat": 3,
 "nbformat_minor": 0,
 "worksheets": [
  {
   "cells": [
    {
     "cell_type": "code",
     "collapsed": false,
     "input": [
      "%load_ext autoreload\n",
      "%autoreload 2\n",
      "import sys\n",
      "import numpy as np\n",
      "from copy import deepcopy\n",
      "from gensim.models.doc2vec import *\n"
     ],
     "language": "python",
     "metadata": {},
     "outputs": [],
     "prompt_number": 1
    },
    {
     "cell_type": "code",
     "collapsed": false,
     "input": [
      "import re\n",
      "alteos = re.compile(r'( [!\\?] )')\n",
      "\n",
      "def YelpReviews( stars = [1,2,3,4,5], prefix=\"train\" ):\n",
      "    for nstar in stars:\n",
      "        i = 0\n",
      "        for line in open(\"data/yelp%s%dstar.txt\"%(prefix,nstar)):\n",
      "            line = alteos.sub(r' \\1 . ', line).rstrip(\"( \\. )*\\n\")\n",
      "            lab = \"%s-%d-%d\" % (prefix, nstar, i)\n",
      "            rev = [s.split() for s in line.split(\" . \")]\n",
      "            i += 1\n",
      "            for s in rev:\n",
      "                yield LabeledSentence(s, [lab])\n"
     ],
     "language": "python",
     "metadata": {},
     "outputs": [],
     "prompt_number": 2
    },
    {
     "cell_type": "code",
     "collapsed": false,
     "input": [
      "trainsent = list(YelpReviews())\n",
      "testsent = list(YelpReviews(prefix=\"test\"))\n",
      "allsent = trainsent + testsent\n",
      "print((allsent[0].words, allsent[0].labels))"
     ],
     "language": "python",
     "metadata": {},
     "outputs": [
      {
       "output_type": "stream",
       "stream": "stdout",
       "text": [
        "(['u', 'can', 'go', 'there', 'n', 'check', 'car', 'out'], ['train-1-0'])\n"
       ]
      }
     ],
     "prompt_number": 3
    },
    {
     "cell_type": "code",
     "collapsed": false,
     "input": [
      "model = Doc2Vec(workers=4,size=100,window=8)\n",
      "%time model.build_vocab(allsent)"
     ],
     "language": "python",
     "metadata": {},
     "outputs": [
      {
       "output_type": "stream",
       "stream": "stdout",
       "text": [
        "CPU times: user 22.2 s, sys: 83.3 ms, total: 22.2 s\n",
        "Wall time: 22.2 s\n"
       ]
      }
     ],
     "prompt_number": 4
    },
    {
     "cell_type": "code",
     "collapsed": false,
     "input": [
      "model.min_alpha = model.alpha\n",
      "for epoch in range(10):\n",
      "    print(epoch)\n",
      "    np.random.shuffle(trainsent)\n",
      "    model.train(trainsent)\n",
      "    model.alpha *= 0.9\n",
      "    model.min_alpha = model.alpha"
     ],
     "language": "python",
     "metadata": {},
     "outputs": [
      {
       "output_type": "stream",
       "stream": "stdout",
       "text": [
        "0\n",
        "1"
       ]
      },
      {
       "output_type": "stream",
       "stream": "stdout",
       "text": [
        "\n",
        "2"
       ]
      },
      {
       "output_type": "stream",
       "stream": "stdout",
       "text": [
        "\n",
        "3"
       ]
      },
      {
       "output_type": "stream",
       "stream": "stdout",
       "text": [
        "\n",
        "4"
       ]
      },
      {
       "output_type": "stream",
       "stream": "stdout",
       "text": [
        "\n",
        "5"
       ]
      },
      {
       "output_type": "stream",
       "stream": "stdout",
       "text": [
        "\n",
        "6"
       ]
      },
      {
       "output_type": "stream",
       "stream": "stdout",
       "text": [
        "\n",
        "7"
       ]
      },
      {
       "output_type": "stream",
       "stream": "stdout",
       "text": [
        "\n",
        "8"
       ]
      },
      {
       "output_type": "stream",
       "stream": "stdout",
       "text": [
        "\n",
        "9"
       ]
      },
      {
       "output_type": "stream",
       "stream": "stdout",
       "text": [
        "\n"
       ]
      }
     ],
     "prompt_number": 5
    },
    {
     "cell_type": "code",
     "collapsed": false,
     "input": [
      "def nearby(word):\n",
      "    print(word)\n",
      "    for (w,v) in model.most_similar([word]):\n",
      "        print(w, end=\" \")\n",
      "    print(\"\\n\")\n"
     ],
     "language": "python",
     "metadata": {},
     "outputs": [],
     "prompt_number": 6
    },
    {
     "cell_type": "code",
     "collapsed": false,
     "input": [
      "nearby(\"food\")\n",
      "nearby(\"service\")\n",
      "nearby(\"value\")\n",
      "nearby(\"atmosphere\")"
     ],
     "language": "python",
     "metadata": {},
     "outputs": [
      {
       "output_type": "stream",
       "stream": "stdout",
       "text": [
        "food\n",
        "cuisine"
       ]
      },
      {
       "output_type": "stream",
       "stream": "stdout",
       "text": [
        " gutbomb sushi meal grub groomer train-3-27781 train-4-69563 specialitie train-5-74939 \n",
        "\n",
        "service\n",
        "sevice train-5-67711 train-4-35871 waitstaff train-4-39834 serivce train-5-21383 train-4-39248 train-5-11860 train-5-46678 \n",
        "\n",
        "value\n",
        "train-5-32953"
       ]
      },
      {
       "output_type": "stream",
       "stream": "stdout",
       "text": [
        " qualtiy train-5-42216 train-5-60099 train-5-46188 train-5-19625 train-4-19204 train-4-73820 train-4-53375 train-5-69967 \n",
        "\n",
        "atmosphere\n",
        "ambiance ambience environment atmoshphere atmoshpere vibe atomosphere decor atmostphere train-5-8561 \n",
        "\n"
       ]
      }
     ],
     "prompt_number": 7
    },
    {
     "cell_type": "code",
     "collapsed": false,
     "input": [
      "model.train_words=False"
     ],
     "language": "python",
     "metadata": {},
     "outputs": [],
     "prompt_number": 8
    },
    {
     "cell_type": "code",
     "collapsed": false,
     "input": [
      "model.min_alpha = model.alpha = 0.025\n",
      "for epoch in range(10):\n",
      "    print(epoch)\n",
      "    np.random.shuffle(testsent)\n",
      "    model.train(testsent)\n",
      "    model.alpha *= 0.9\n",
      "    model.min_alpha = model.alpha"
     ],
     "language": "python",
     "metadata": {},
     "outputs": [
      {
       "output_type": "stream",
       "stream": "stdout",
       "text": [
        "0\n",
        "1"
       ]
      },
      {
       "output_type": "stream",
       "stream": "stdout",
       "text": [
        "\n",
        "2"
       ]
      },
      {
       "output_type": "stream",
       "stream": "stdout",
       "text": [
        "\n",
        "3"
       ]
      },
      {
       "output_type": "stream",
       "stream": "stdout",
       "text": [
        "\n",
        "4"
       ]
      },
      {
       "output_type": "stream",
       "stream": "stdout",
       "text": [
        "\n",
        "5"
       ]
      },
      {
       "output_type": "stream",
       "stream": "stdout",
       "text": [
        "\n",
        "6"
       ]
      },
      {
       "output_type": "stream",
       "stream": "stdout",
       "text": [
        "\n",
        "7"
       ]
      },
      {
       "output_type": "stream",
       "stream": "stdout",
       "text": [
        "\n",
        "8"
       ]
      },
      {
       "output_type": "stream",
       "stream": "stdout",
       "text": [
        "\n",
        "9"
       ]
      },
      {
       "output_type": "stream",
       "stream": "stdout",
       "text": [
        "\n"
       ]
      }
     ],
     "prompt_number": 9
    },
    {
     "cell_type": "code",
     "collapsed": false,
     "input": [
      "i = re.match(\"train-\\d-\\d+\", \"test-5-74939\")\n",
      "if i: print(\"yes\")"
     ],
     "language": "python",
     "metadata": {},
     "outputs": [],
     "prompt_number": 25
    },
    {
     "cell_type": "code",
     "collapsed": false,
     "input": [
      "itrainneg = [model.vocab[w].index for w in model.vocab if re.match(\"train-[1|2]-\\d+\", w) ]\n",
      "itrainpos = [model.vocab[w].index for w in model.vocab if re.match(\"train-5-\\d+\", w) ]\n",
      "itestneg = [model.vocab[w].index for w in model.vocab if re.match(\"test-[1|2]-\\d+\", w) ]\n",
      "itestpos = [model.vocab[w].index for w in model.vocab if re.match(\"test-5-\\d+\", w) ]"
     ],
     "language": "python",
     "metadata": {},
     "outputs": [],
     "prompt_number": 31
    },
    {
     "cell_type": "code",
     "collapsed": false,
     "input": [
      "xtrain = np.vstack( ( model.syn0[itrainneg,:], model.syn0[itrainpos,:]) )\n",
      "ytrain = np.repeat( [0,1], [len(itrainneg),len(itrainpos)], axis=0)\n",
      "xtest = np.vstack( ( model.syn0[itestneg,:], model.syn0[itestpos,:]) )\n",
      "ytest = np.repeat( [0,1], [len(itestneg),len(itestpos)], axis=0)"
     ],
     "language": "python",
     "metadata": {},
     "outputs": [],
     "prompt_number": 47
    },
    {
     "cell_type": "code",
     "collapsed": false,
     "input": [
      "## try logistic regression\n",
      "from sklearn import linear_model\n",
      "lmreg = linear_model.LogisticRegression()\n",
      "lmreg.fit(xtrain, ytrain)\n",
      "yhatlm = lmreg.predict(xtest)\n",
      "print(\"MCR = %.3f\"%np.mean(yhatlm!=ytest))"
     ],
     "language": "python",
     "metadata": {},
     "outputs": [
      {
       "output_type": "stream",
       "stream": "stdout",
       "text": [
        "MCR = 0.117\n"
       ]
      }
     ],
     "prompt_number": 67
    },
    {
     "cell_type": "code",
     "collapsed": false,
     "input": [
      "## or a random forest\n",
      "from sklearn import ensemble\n",
      "rfreg = ensemble.RandomForestClassifier(400,n_jobs=4)\n",
      "rfreg.fit(xtrain, ytrain)\n",
      "yhatrf = rfreg.predict(xtest)\n",
      "print(\"MCR = %.3f\"%np.mean(yhatrf!=ytest))"
     ],
     "language": "python",
     "metadata": {},
     "outputs": [
      {
       "output_type": "stream",
       "stream": "stdout",
       "text": [
        "MCR = 0.144\n"
       ]
      }
     ],
     "prompt_number": 69
    },
    {
     "cell_type": "markdown",
     "metadata": {},
     "source": [
      "So neither do as well as w2v inversion, which itself doesn't perform as well as a linear model (but it is close)."
     ]
    }
   ],
   "metadata": {}
  }
 ]
}