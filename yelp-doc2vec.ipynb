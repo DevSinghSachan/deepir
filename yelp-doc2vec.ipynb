{
 "metadata": {
  "name": "",
  "signature": "sha256:4d4261f9362291e61f8be3bdc952661e5a82cb475d2dd1931b76bd2f3571e072"
 },
 "nbformat": 3,
 "nbformat_minor": 0,
 "worksheets": [
  {
   "cells": [
    {
     "cell_type": "code",
     "collapsed": false,
     "input": [
      "%load_ext autoreload\n",
      "%autoreload 2\n",
      "import sys\n",
      "import numpy as np\n",
      "from copy import deepcopy\n",
      "from gensim.models.doc2vec import *\n"
     ],
     "language": "python",
     "metadata": {},
     "outputs": [],
     "prompt_number": 1
    },
    {
     "cell_type": "code",
     "collapsed": false,
     "input": [
      "import re\n",
      "alteos = re.compile(r'( [!\\?] )')\n",
      "\n",
      "def YelpReviews( stars = [1,2,3,4,5], prefix=\"train\" ):\n",
      "    for nstar in stars:\n",
      "        i = 0\n",
      "        for line in open(\"data/yelp%s%dstar.txt\"%(prefix,nstar)):\n",
      "            line = alteos.sub(r' \\1 . ', line).rstrip(\"( \\. )*\\n\")\n",
      "            lab = \"%s-%d-%d\" % (prefix, nstar, i)\n",
      "            rev = [s.split() for s in line.split(\" . \")]\n",
      "            i += 1\n",
      "            for s in rev:\n",
      "                yield LabeledSentence(s, [lab])\n"
     ],
     "language": "python",
     "metadata": {},
     "outputs": [],
     "prompt_number": 2
    },
    {
     "cell_type": "code",
     "collapsed": false,
     "input": [
      "trainsent = list(YelpReviews())\n",
      "testsent = list(YelpReviews(prefix=\"test\"))\n",
      "allsent = trainsent + testsent\n",
      "print((allsent[0].words, allsent[0].labels))"
     ],
     "language": "python",
     "metadata": {},
     "outputs": [
      {
       "output_type": "stream",
       "stream": "stdout",
       "text": [
        "(['u', 'can', 'go', 'there', 'n', 'check', 'car', 'out'], ['train-1-0'])\n"
       ]
      }
     ],
     "prompt_number": 3
    },
    {
     "cell_type": "code",
     "collapsed": false,
     "input": [
      "model = Doc2Vec(workers=4,size=100,window=8)\n",
      "%time model.build_vocab(allsent)"
     ],
     "language": "python",
     "metadata": {},
     "outputs": [
      {
       "output_type": "stream",
       "stream": "stdout",
       "text": [
        "CPU times: user 22.3 s, sys: 108 ms, total: 22.4 s\n",
        "Wall time: 22.4 s\n"
       ]
      }
     ],
     "prompt_number": 4
    },
    {
     "cell_type": "code",
     "collapsed": false,
     "input": [
      "model.min_alpha = model.alpha\n",
      "for epoch in range(10):\n",
      "    print(epoch)\n",
      "    np.random.shuffle(trainsent)\n",
      "    model.train(trainsent)\n",
      "    model.alpha *= 0.9\n",
      "    model.min_alpha = model.alpha"
     ],
     "language": "python",
     "metadata": {},
     "outputs": [
      {
       "output_type": "stream",
       "stream": "stdout",
       "text": [
        "0\n",
        "1"
       ]
      },
      {
       "output_type": "stream",
       "stream": "stdout",
       "text": [
        "\n",
        "2"
       ]
      },
      {
       "output_type": "stream",
       "stream": "stdout",
       "text": [
        "\n",
        "3"
       ]
      },
      {
       "output_type": "stream",
       "stream": "stdout",
       "text": [
        "\n",
        "4"
       ]
      },
      {
       "output_type": "stream",
       "stream": "stdout",
       "text": [
        "\n",
        "5"
       ]
      },
      {
       "output_type": "stream",
       "stream": "stdout",
       "text": [
        "\n",
        "6"
       ]
      },
      {
       "output_type": "stream",
       "stream": "stdout",
       "text": [
        "\n",
        "7"
       ]
      },
      {
       "output_type": "stream",
       "stream": "stdout",
       "text": [
        "\n",
        "8"
       ]
      },
      {
       "output_type": "stream",
       "stream": "stdout",
       "text": [
        "\n",
        "9"
       ]
      },
      {
       "output_type": "stream",
       "stream": "stdout",
       "text": [
        "\n"
       ]
      }
     ],
     "prompt_number": 5
    },
    {
     "cell_type": "code",
     "collapsed": false,
     "input": [
      "def nearby(word):\n",
      "    print(word)\n",
      "    for (w,v) in model.most_similar([word]):\n",
      "        print(w, end=\" \")\n",
      "    print(\"\\n\")\n"
     ],
     "language": "python",
     "metadata": {},
     "outputs": [],
     "prompt_number": 6
    },
    {
     "cell_type": "code",
     "collapsed": false,
     "input": [
      "nearby(\"food\")\n",
      "nearby(\"service\")\n",
      "nearby(\"value\")\n",
      "nearby(\"atmosphere\")"
     ],
     "language": "python",
     "metadata": {},
     "outputs": [
      {
       "output_type": "stream",
       "stream": "stdout",
       "text": [
        "food\n",
        "cuisine"
       ]
      },
      {
       "output_type": "stream",
       "stream": "stdout",
       "text": [
        " grub train-4-28153 train-4-34882 train-5-56801 meal coffee train-3-27781 dessert train-4-1300 \n",
        "\n",
        "service\n",
        "train-5-67711 serivce sevice train-5-21383 train-5-72684 train-4-39834 train-5-24653 relation train-5-11860 staff \n",
        "\n",
        "value\n",
        "qualtiy"
       ]
      },
      {
       "output_type": "stream",
       "stream": "stdout",
       "text": [
        " train-5-60099 train-5-53847 train-3-32346 train-4-22164 train-4-19204 train-5-11860 train-4-6480 train-4-23614 train-5-41608 \n",
        "\n",
        "atmosphere\n",
        "environment ambience ambiance atmoshpere atmostphere atomosphere vibe decor atomsphere enviroment \n",
        "\n"
       ]
      }
     ],
     "prompt_number": 7
    },
    {
     "cell_type": "code",
     "collapsed": false,
     "input": [
      "model.train_words=False"
     ],
     "language": "python",
     "metadata": {},
     "outputs": [],
     "prompt_number": 8
    },
    {
     "cell_type": "code",
     "collapsed": false,
     "input": [
      "model.min_alpha = model.alpha = 0.025\n",
      "for epoch in range(10):\n",
      "    print(epoch)\n",
      "    np.random.shuffle(testsent)\n",
      "    model.train(testsent)\n",
      "    model.alpha *= 0.9\n",
      "    model.min_alpha = model.alpha"
     ],
     "language": "python",
     "metadata": {},
     "outputs": [
      {
       "output_type": "stream",
       "stream": "stdout",
       "text": [
        "0\n",
        "1"
       ]
      },
      {
       "output_type": "stream",
       "stream": "stdout",
       "text": [
        "\n",
        "2"
       ]
      },
      {
       "output_type": "stream",
       "stream": "stdout",
       "text": [
        "\n",
        "3"
       ]
      },
      {
       "output_type": "stream",
       "stream": "stdout",
       "text": [
        "\n",
        "4"
       ]
      },
      {
       "output_type": "stream",
       "stream": "stdout",
       "text": [
        "\n",
        "5"
       ]
      },
      {
       "output_type": "stream",
       "stream": "stdout",
       "text": [
        "\n",
        "6"
       ]
      },
      {
       "output_type": "stream",
       "stream": "stdout",
       "text": [
        "\n",
        "7"
       ]
      },
      {
       "output_type": "stream",
       "stream": "stdout",
       "text": [
        "\n",
        "8"
       ]
      },
      {
       "output_type": "stream",
       "stream": "stdout",
       "text": [
        "\n",
        "9"
       ]
      },
      {
       "output_type": "stream",
       "stream": "stdout",
       "text": [
        "\n"
       ]
      }
     ],
     "prompt_number": 9
    },
    {
     "cell_type": "code",
     "collapsed": false,
     "input": [
      "i = re.match(\"train-\\d-\\d+\", \"test-5-74939\")\n",
      "if i: print(\"yes\")"
     ],
     "language": "python",
     "metadata": {},
     "outputs": [],
     "prompt_number": 10
    },
    {
     "cell_type": "code",
     "collapsed": false,
     "input": [
      "itrainneg = [model.vocab[w].index for w in model.vocab if re.match(\"train-[1|2]-\\d+\", w) ]\n",
      "itrainpos = [model.vocab[w].index for w in model.vocab if re.match(\"train-5-\\d+\", w) ]\n",
      "itestneg = [model.vocab[w].index for w in model.vocab if re.match(\"test-[1|2]-\\d+\", w) ]\n",
      "itestpos = [model.vocab[w].index for w in model.vocab if re.match(\"test-5-\\d+\", w) ]"
     ],
     "language": "python",
     "metadata": {},
     "outputs": [],
     "prompt_number": 11
    },
    {
     "cell_type": "code",
     "collapsed": false,
     "input": [
      "xtrain = np.vstack( ( model.syn0[itrainneg,:], model.syn0[itrainpos,:]) )\n",
      "ytrain = np.repeat( [0,1], [len(itrainneg),len(itrainpos)], axis=0)\n",
      "xtest = np.vstack( ( model.syn0[itestneg,:], model.syn0[itestpos,:]) )\n",
      "ytest = np.repeat( [0,1], [len(itestneg),len(itestpos)], axis=0)"
     ],
     "language": "python",
     "metadata": {},
     "outputs": [],
     "prompt_number": 12
    },
    {
     "cell_type": "code",
     "collapsed": false,
     "input": [
      "## try logistic regression\n",
      "from sklearn import linear_model\n",
      "lmreg = linear_model.LogisticRegression()\n",
      "lmreg.fit(xtrain, ytrain)\n",
      "yhatlm = lmreg.predict(xtest)\n",
      "print(\"MCR = %.3f\"%np.mean(yhatlm!=ytest))"
     ],
     "language": "python",
     "metadata": {},
     "outputs": [
      {
       "output_type": "stream",
       "stream": "stdout",
       "text": [
        "MCR = 0.118\n"
       ]
      }
     ],
     "prompt_number": 13
    },
    {
     "cell_type": "code",
     "collapsed": false,
     "input": [
      "## or a random forest\n",
      "from sklearn import ensemble\n",
      "rfreg = ensemble.RandomForestClassifier(400,n_jobs=4)\n",
      "rfreg.fit(xtrain, ytrain)\n",
      "yhatrf = rfreg.predict(xtest)\n",
      "print(\"MCR = %.3f\"%np.mean(yhatrf!=ytest))"
     ],
     "language": "python",
     "metadata": {},
     "outputs": [
      {
       "output_type": "stream",
       "stream": "stdout",
       "text": [
        "MCR = 0.151\n"
       ]
      }
     ],
     "prompt_number": 14
    },
    {
     "cell_type": "markdown",
     "metadata": {},
     "source": [
      "So neither do as well as w2v inversion, which itself doesn't perform as well as a linear model (but it is close)."
     ]
    }
   ],
   "metadata": {}
  }
 ]
}